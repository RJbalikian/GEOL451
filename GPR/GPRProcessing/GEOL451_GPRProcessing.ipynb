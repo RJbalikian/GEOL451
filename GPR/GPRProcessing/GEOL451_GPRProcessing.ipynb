{
 "cells": [
  {
   "cell_type": "code",
   "execution_count": null,
   "metadata": {
    "vscode": {
     "languageId": "plaintext"
    }
   },
   "outputs": [],
   "source": [
    "import gprpy.gprpy as gp\n",
    "mygpr = gp.gprpyProfile()\n",
    "mygpr.importdata('../exampledata/GSSI/FILE____032.DZT')\n",
    "mygpr.setZeroTime(5)\n",
    "mygpr.dewow(999999)\n",
    "mygpr.remMeanTrace(9999999)\n",
    "mygpr.setVelocity(0.14)\n",
    "mygpr.fkMigration()\n",
    "mygpr.topoCorrect('../exampledata/GSSI/FILE____032p.txt',delimiter='\\t')"
   ]
  }
 ],
 "metadata": {
  "language_info": {
   "name": "python"
  }
 },
 "nbformat": 4,
 "nbformat_minor": 2
}

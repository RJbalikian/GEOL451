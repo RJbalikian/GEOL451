{
 "cells": [
  {
   "cell_type": "markdown",
   "metadata": {},
   "source": [
    "# Setup"
   ]
  },
  {
   "cell_type": "markdown",
   "metadata": {},
   "source": [
    "Before running any code, you will need to setup your codespace to work with Jupyter notebooks. Codespaces will do this for you when you try to run the first code cell. Click `Shift + Enter` in the following code cells, and follow the prompts at the top and/or bottom right of you page to install the python and jupyter extensions needed to run this notebook.\n",
    "\n",
    "Select `Install/Enable suggested extensions python + jupyter` when it appears at the top of your page, and/or the \"Install\" button for the python extension on the bottom right of your page.\n",
    "\n",
    "This will take a minute or so. A circular arrow icon will also rotate near/in the top menu of your jupyter notebook.\n",
    "\n",
    "After it installs, you will either need to select the \"Select Kernel\" button at the top right of your notebook, or it will ask you to Select Kernel at the top of your page (it may select a kernel automatically,in which case it will say \"Python...\" or \"gprMax...\"). You need to run this notebook on the gprMax kernel. Click Select Kernel at the top right to select your kernel. Then, click Python Environments in the dropdoxn and the gprMax environment. Once everything is working correctly, the cell below should output the text in the parentheses just below the cell. "
   ]
  },
  {
   "cell_type": "code",
   "execution_count": null,
   "metadata": {},
   "outputs": [],
   "source": [
    "import gprMax\n",
    "print(\"My python environment is now working correctly! I am ready to run gprMax!\")"
   ]
  },
  {
   "cell_type": "markdown",
   "metadata": {},
   "source": [
    "# A-scan from a metal cylinder (2D)\n",
    "This notebook is heavily derived from GPRMax's tutorial notebooks, but with some key parameter changes.\n",
    "\n",
    "This example is the GPR modelling equivalent of 'Hello World'! It demonstrates how to simulate a single trace (A-scan) from a metal cylinder buried in a dielectric half-space. The input for this model is located in the file: /workspaces/GEOL451/GPR/SyntheticGPR/GPRMax/GEOL451_GPRMaxFiles/GEOL451_Ascan_2D.in"
   ]
  },
  {
   "cell_type": "markdown",
   "metadata": {},
   "source": [
    "### Geometry of a metal cylinder buried in a dielectric half-space\n",
    "<img style=\"float: left\" src=\"../cylinder_half_space_geo.png\" width=\"50%\" height=\"50%\" />\n"
   ]
  },
  {
   "cell_type": "markdown",
   "metadata": {},
   "source": [
    "The geometry of the scenario is relatively simple:\n",
    "* The white area at the top is \"free-space\" (for our purposes, the air)\n",
    "* The brown area is the subsurface (also referred to as the half-space)\n",
    "* The black area is a metal cylinder we will attempt to detect\n",
    "* The semi-transparent area around the boundary of the domain represents the PML (i.e, the edge of area being modeled) region. \n",
    "* The red cell is the source of the GPR signal (where it is generated)\n",
    "* The blue cell is the receiver for the GPR signal (where it is measured).\n",
    "\n",
    "For this initial example a detailed description of what each command in the input file does and why each command was used is given. The following steps will explain the process of building the .in input file."
   ]
  },
  {
   "cell_type": "markdown",
   "metadata": {},
   "source": [
    "# Q1: Where is the origin of the coordinate system (0,0) for the 2D model shown above?\n",
    "### Hint: is it at the top or bottom? Left or right?"
   ]
  },
  {
   "cell_type": "markdown",
   "metadata": {},
   "source": [
    "## 1. Determine the model's materials\n",
    "\n",
    "There will be three different materials in the model: \n",
    "* Air: air (free space) already exists as a built-in material in gprMax which can be accessed using the ``free_space`` identifier.\n",
    "* A buried target (in this case, a metal cylinder):  the metal cylinder will be modeled as a Perfect Electric Conductor, a built-in material in gprMax that can be accessed using ``pec``. \n",
    "* Dielectric half-space (a consistent subsurface material): we will define with the following parameters and an identifier of ``half_space``:\n",
    "  * Non-magnetic: $\\mu_r=1$ and $\\sigma_*=0$ \n",
    "  * Relative permittivity of six: $\\epsilon_r=6$ (this is a reasonable value for a sandy till, for example)\n",
    "  * Zero conductivity, $\\sigma=0$. \n",
    "\n",
    "We will get into the details about how these are defined later"
   ]
  },
  {
   "cell_type": "markdown",
   "metadata": {},
   "source": [
    "\n",
    "## 2. Determine the source type and excitation frequency\n",
    "\n",
    "We will simulate the GPR antenna/source with the following characteristics:\n",
    "* A theoretical Hertzian dipole source \n",
    "* A Ricker waveform\n",
    "  * Amplitude of 1\n",
    "  * Center frequency of $f_c=250~\\textrm{MHz}$\n",
    "\n",
    "In the .in parameter file, these are specified using:\n",
    "  * `#waveform: ricker 1 250e6 my_ricker`\n",
    "  * `#hertzian_dipole: z 0.100 0.170 0 my_ricker`\n",
    "\n",
    "The Ricker waveform is created with the ``#waveform`` command, specifying an amplitude of 1, centre frequency of 250 MHz and picking an arbitrary identifier of ``my_ricker``. The Hertzian dipole source is created using the ``#hertzian_dipole`` command, specifying a z direction polarisation (perpendicular to the survey direction if a B-scan were being created), location on the surface of the slab, and using the Ricker waveform already created.\n",
    "\n",
    "The location of the receiving antenna is also specified in the .in file:\n",
    "`#rx: 0.140 0.55 0`\n"
   ]
  },
  {
   "cell_type": "markdown",
   "metadata": {},
   "source": [
    "\n",
    "## 3. Calculate a spatial resolution and domain size\n",
    "\n",
    "One *rule-of-thumb* for GPR is that the spatial resolution is 1/10 of the smallest wavelength present in the signal. \n",
    "\n",
    "To determine the smallest wavelength, we will do a rough calculation of the highest frequency and lowest velocity present in the model. \n",
    "\n",
    "**The highest frequency is ***not*** the centre frequency of the Ricker waveform!**\n",
    "\n",
    "You can use the following code to plot builtin waveforms and their FFTs."
   ]
  },
  {
   "cell_type": "code",
   "execution_count": null,
   "metadata": {
    "collapsed": false
   },
   "outputs": [],
   "source": [
    "%matplotlib inline\n",
    "from gprMax.waveforms import Waveform\n",
    "from tools.plot_source_wave import check_timewindow, mpl_plot\n",
    "import matplotlib.pyplot as plt\n",
    "\n",
    "w = Waveform()\n",
    "w.type = 'ricker'\n",
    "w.amp = 1\n",
    "w.freq = 250e6 #This is 250 MHz (it could also be written as 0.25e9)\n",
    "timewindow = 1.1e-8\n",
    "dt = 1.926e-12\n",
    "\n",
    "timewindow, iterations = check_timewindow(timewindow, dt)\n",
    "plt.close()\n",
    "plt = mpl_plot(w, timewindow, dt, iterations, fft=True)\n",
    "plt.hlines(y=[-40], xmin=0, xmax=1.2e9, linestyles='dotted', linewidths=3, colors='k')\n",
    "plt.show()"
   ]
  },
  {
   "cell_type": "markdown",
   "metadata": {},
   "source": [
    "The figure on the left shows the shape of the GPR pulse emitted from the transmitting antenna, and how much time it takes to complete a pulse at our input frequency of 250 MHz. The shape of this pulse is what the \"ricker\" type of waveform refers to. \n",
    "\n",
    "Things to note about the GPR signal: \n",
    "* It takes a little over 10 nanoseconds (1e-8 or 10e-9 seconds) for the pulse to complete\n",
    "* The \"peak\" of the pulse round 5.65 nanoseconds (i.e., it takes 5.65 nanoseconds for our main pulse to even start)\n",
    "\n",
    "The figure on the right shows the power at each frequency from the GPR pulse. This figure also includes a dotted line showing our (somewhat arbitrary) threshold for significant frequencies (i.e., those above -40dB). The frequencies with power values above this line are ~50MHz-700MHz (with a peak around our center frequency of 250MHz).\n",
    "\n",
    "In this case the highest significant frequency present in the model is likely to be around 700MHz (0.7 GHz, or 0.7e9 Hz). To calculate the wavelength at 700 MHz in the half-space (which has the lowest velocity) use:\n",
    "\n",
    "$$\\lambda = \\frac{c}{f \\sqrt{\\epsilon_r}}$$"
   ]
  },
  {
   "cell_type": "markdown",
   "metadata": {},
   "source": [
    "In the next cell, set the `fmax` variable equal to 700MHz (the actual value needs to be in Hz, so the actual value should be something like 0.7e9)"
   ]
  },
  {
   "cell_type": "code",
   "execution_count": null,
   "metadata": {
    "collapsed": false,
    "scrolled": true
   },
   "outputs": [],
   "source": [
    "from math import sqrt\n",
    "\n",
    "# Maximum frequency present in model\n",
    "fmax = \n",
    "\n",
    "# Speed of light in vacuum (m/s)\n",
    "c = 299792458\n",
    "\n",
    "# Highest relative permittivity present in model\n",
    "er = 6\n",
    "\n",
    "# Minimum wavelength\n",
    "wmin = c / (fmax * sqrt(er))\n",
    "\n",
    "# Maximum spatial resolution, using our 1/10 rule of thumb\n",
    "dmin = wmin * (1 / 10)\n",
    "\n",
    "\n",
    "print('Minimum wavelength: {:g} m'.format(wmin))\n",
    "print('Spatial resolution near the surface: {:g} m'.format(dmin))"
   ]
  },
  {
   "cell_type": "markdown",
   "metadata": {},
   "source": [
    "This would give a spatial resolution of 17 mm near the surface. The diameter of the cylinder is 5 cm so, so it should be feasible to image.\n",
    "\n",
    "For the model domain, a cell size of 2 mm should be more than sufficiently small. This is shown in the .in file as:\n",
    "\n",
    "    * `#dx_dy_dz: 0.002 0.002 0.002`\n",
    "\n",
    "The domain size should be enough to enclose the volume of interest, plus allow 10 cells for the edge of the model to \"absorb\" the GPR signal and approximately another 10 cells of between the edge of the model and any objects of interest. \n",
    "\n",
    "To make this is a 2D model (instead of a 3D model), will define one cell as \"infinite\" by making it only one cell wide. This is how this is implemented in the gprMax input file:\n",
    "\n",
    "    * `#domain: 0.240 0.6 0.002`"
   ]
  },
  {
   "cell_type": "markdown",
   "metadata": {},
   "source": [
    "## 4. Factors that affect the speed (and shape) of light"
   ]
  },
  {
   "cell_type": "markdown",
   "metadata": {},
   "source": [
    "### Determine propogation velocity"
   ]
  },
  {
   "cell_type": "markdown",
   "metadata": {},
   "source": [
    "GPR is a in the radio range of electromagnetic waves (i.e., it travels at the speed of light in a vaccum).\n",
    "\n",
    "The speed of light in a vaccum is 299,792,458 meters per second. This is, however, **not** how fast GPR pulses usually travel.\n",
    "\n",
    "The speed of GPR waves is affected by the medium through which they pass. Electromagnetic waves do not travel at the \"standard\" speed of light through the ground. The way we can calculate this is:\n",
    "\n",
    "$$V_{medium} = \\frac{c}{\\sqrt{\\epsilon_r}} $$\n",
    "\n",
    "Where:\n",
    "* $V_{medium}$  is the propogation of our GPR signal through a specific medium\n",
    "* $c$  is the speed of light in a vaccum\n",
    "* $\\epsilon_r$  is the relative permittivity of the medium\n",
    "\n",
    "See [here](https://gpg.geosci.xyz/content/GPR/GPR_fundamental_principles.html) for more information.\n",
    "\n",
    "That is to say, the relative permittivity is the main characteristic of the medium affecting the speed of propogation of the GPR signal through the subsurface.\n",
    "\n",
    "Above, we specified the relative permittivity as $\\epsilon_r$ = 6. Using this, calculate the propogation velocity below (both in seconds and nanoseconds)."
   ]
  },
  {
   "cell_type": "code",
   "execution_count": null,
   "metadata": {},
   "outputs": [],
   "source": [
    "from math import sqrt\n",
    "\n",
    "# Speed of light in vacuum (m/s)\n",
    "c = 299792458\n",
    "\n",
    "### Fill in a value of 6 here for relative permittivity\n",
    "er = \n",
    "\n",
    "# Use the equation above to calculate the propogation velocity for non-magnetic material\n",
    "#### *****  Write the equation for propogation velocity through a specific medium (as specified above) in python in the line below using the variables c and er *****\n",
    "propogation_velocity = \n",
    "### ***********************************************************************************\n",
    "\n",
    "# This just converts propogation velocity to meters/nanoseconds (commonly used for GPR)\n",
    "prop_vel_in_meters_per_nanosecond = propogation_velocity / 1e9 \n",
    "\n",
    "print(f'Propogation velocity: {prop_vel_in_meters_per_nanosecond:.3f} m/ns')"
   ]
  },
  {
   "cell_type": "markdown",
   "metadata": {},
   "source": [
    "Use this value ^ to answer Q1"
   ]
  },
  {
   "cell_type": "markdown",
   "metadata": {},
   "source": [
    "# Q2: What is the propogation velocity (preferably in meters / nanosecond) of the GPR pulse in our material with a relative permittivity of 6?\n",
    "Hint: Most of the quaternary (glacial) geological materials in Illinois are between 0.07 and 0.15 m/ns. This value should fall between those as well."
   ]
  },
  {
   "cell_type": "markdown",
   "metadata": {},
   "source": [
    "\n",
    "### Create the GPR materials/objects\n",
    "\n",
    "Now physical objects can be created for the half-space (i.e., the subsurface) and a target for our GPR pulse: a metal cylinder. \n",
    "\n",
    "First the ``#box`` command will be used to create the half-space (which is the subsurface material). We will also (explained later) use the ``#cylinder`` command to overwrite the properties of the half-space with those of the cylinder at the location of the cylinder. In the .in file, the half-space is defined as follows:\n",
    "\n",
    "  * `#box: 0 0 0 0.240 0.170 0.002 half_space`\n",
    "\n",
    "The `box` specifies a subsurface box that goes from the (0,0,0) coordinate (i.e., the bottom left) to the (0.240, 0.170, 0.002) coordinate (the top right...remember the Z dimension is only 1 cell wide and is considered infinite by gprMax). It uses the `half_space` material also defined in the .in file as follows:\n",
    "\n",
    "`#material: 6 0 1 0 half_space`\n",
    "\n",
    "Or, a relative permittivity of 6, conductivity of 0, is non-magnetic (relative permeability of 1), and magnetic loss of 0\n",
    "\n",
    "See the next paragraph about how the cylinder is specified.\n"
   ]
  },
  {
   "cell_type": "markdown",
   "metadata": {},
   "source": [
    "### Choose a time window\n",
    "\n",
    "In this model, we hope to model and see the expected reflection of a GPR signal from a buried metal cylinder, therefore the time window must be long enough to allow the electromagnetic waves to propagate from the source through the half-space to the cylinder *and* to be reflected back to the receiver.\n",
    "\n",
    "In our .in file, we specify the location and material of the cylinder as follows:\n",
    "\n",
    "`#cylinder: 0.120 0.1 0 0.120 0.1 0.002 0.05 pec`\n",
    "\n",
    "The format is as follows: #cylinder x1 y1 z1 x2 y2 z2 r material\n",
    "* x1 y1 z1: location of the center of one face cylinder\n",
    "* x2 y2 z2: location of the center of the other face of the cylinder\n",
    "* r: radius of the cylinder\n",
    "* material: the material (`pec` in this case is a prespecified material (perfect electrical conductor), i.e., metal)\n",
    "\n",
    "So, the cylinder is \n",
    "* 0.12 meters into the model space (x) \n",
    "* 0.1 meters above the bottom of the model space (y; the coordinates increase from the bottom up)\n",
    "* 0-0.002m fills the entire third dimension (which is just to reiterate that this is a 2D model)\n",
    "* 0.05 m (5 cm) radius (or 10 cm wide)"
   ]
  },
  {
   "cell_type": "markdown",
   "metadata": {},
   "source": [
    "# Q3: How deep is the ***top*** of the metal cylinder in the subsurface/half-space of the model?\n",
    "## Read the bullet points below to answer Q2\n",
    "\n",
    "* The entire model domain is 0.6 m tall (i.e., it is 0.6 m in the y direction). \n",
    "* The subsurface part of the model (i.e., the half-space of the model) is 0.55 m deep (starting from the bottom model domain). \n",
    "* The center of the cylinder is 0.1 meters above the bottom of the model domain \n",
    "* The **radius** of the cylinder is 0.05 m."
   ]
  },
  {
   "cell_type": "markdown",
   "metadata": {},
   "source": [
    "## User your answer from Q2 as the value for the target_depth variable in the next cell"
   ]
  },
  {
   "cell_type": "code",
   "execution_count": null,
   "metadata": {
    "collapsed": false
   },
   "outputs": [],
   "source": [
    "### Set target_depth equal to your answer from Q2 here\n",
    "from math import sqrt\n",
    "target_depth =\n",
    "\n",
    "c = 299792458\n",
    "er=6\n",
    "\n",
    "two_way_travel_time = (2 * target_depth) / (c / sqrt(er)) # 2 times the depth (we need two-way travel time) divided by velocity\n",
    "print('Minimum time window: {:g} s'.format(two_way_travel_time))"
   ]
  },
  {
   "cell_type": "markdown",
   "metadata": {},
   "source": [
    "# Q4: What is the minimum time window you calculated (this should include at least 2 significant digits)?"
   ]
  },
  {
   "cell_type": "markdown",
   "metadata": {},
   "source": [
    "This is the minimum time required, but we also want to make sure we see the entire waveform. If we add approximately 10 ns (i.e., the approximate width of the waveform), we can then specify the following for the wave form in the .in file:\n",
    "\n",
    "`#time_window: 17e-9`\n",
    "\n",
    "The time step required for the model is automatically calculated by the gprMax software."
   ]
  },
  {
   "cell_type": "markdown",
   "metadata": {},
   "source": [
    "# Run the model and view results"
   ]
  },
  {
   "cell_type": "markdown",
   "metadata": {},
   "source": [
    "## Running the model"
   ]
  },
  {
   "cell_type": "markdown",
   "metadata": {},
   "source": [
    "### Terminal Command\n",
    "The simplest way to run models with gprMax is to create a .in parameter file and call the gprMax module with that file as input, as follows:\n",
    "   \n",
    "`python -m gprMax user_models/cylinder_Ascan_2D.in`\n",
    "\n",
    "In this command: \n",
    "* `python` tells the terminal we are using python.\n",
    "* `-m` indicates that we are running a python module\n",
    "* `gprMax` is the name of the python module, which needs a .in parameter filename as it's first argument\n",
    "* `user_models/cylinder_Ascan_2D.in` is the filepath (relative from the working directory in this case) to the .in parameter file\n",
    "\n",
    "**Tip**: You can use the ``--geometry-only`` command line argument to build a model and produce any geometry views but not run the simulation. This option is useful for checking the geometry of the model is correct."
   ]
  },
  {
   "cell_type": "markdown",
   "metadata": {},
   "source": [
    "### Python API\n",
    "Another way to run gprMax is to use the python API.\n",
    "\n",
    "To do this, you need to import the gprMax package, and the gprMax module (the main part of the gprMax package).\n",
    "\n",
    "In the code cell below, we do this using a using the `from ... import ...` statement, which imports a package directory based on where the code is being run. In order for this to work, you need to be running your code in the same directory as the main gprMax package (the package is a special folder with python scripts in this case).\n",
    "\n",
    "So, the line `from gprMax.gprMax import api` below tells python to look in the gprMax folder for a gprMax.py file and in that file use a function called `api()`. This `api()` funtion takes as its first required argument a filename (just as in the terminal command above). You can optionally input other parameters, but your main modeling parameters will still be specified in your .in parameter file.\n",
    "\n",
    "So that we can easily and consistently run everything in python in this jupyter notebook, we will use the `api()` command in the next cell to run our model."
   ]
  },
  {
   "cell_type": "markdown",
   "metadata": {},
   "source": [
    "## Plot the A-scan\n",
    "\n",
    "When we run the `api()` command, it should produce an output file ``cylinder_Ascan_2D.out`` in the same directory as the .in file. \n",
    "\n",
    "Using a terminal command, we can view the results using:\n",
    "\n",
    "`python -m tools.plot_Ascan user_models/cylinder_Ascan_2D.out`\n",
    "    \n",
    "We will use the the python implementation of this: the `mpl_plot` function of the `tools.plot_Ascan` module.\n",
    "\n",
    "Run the cell below to run an A-Scan (1D) model and view the output (we are doing both the model run and plotting in the same cell)"
   ]
  },
  {
   "cell_type": "code",
   "execution_count": null,
   "metadata": {},
   "outputs": [],
   "source": [
    "\n",
    "# Import necessary packages/modules for running the model\n",
    "from gprMax.gprMax import api\n",
    "\n",
    "# Run the model\n",
    "parameter_filepath = r\"/workspaces/GEOL451/GPR/SyntheticGPR/GEOL451_GPRMaxFiles/GEOL451_Ascan_2D.in\"\n",
    "api(parameter_filepath, n=1, geometry_only=False)\n",
    "\n",
    "\n",
    "# Import necessary packages/modules for plotting/visualization\n",
    "%matplotlib inline\n",
    "from gprMax.receivers import Rx\n",
    "from tools.plot_Ascan import mpl_plot\n",
    "import matplotlib.pyplot as plt\n",
    "\n",
    "# Show the results\n",
    "outputFilepath = r\"/workspaces/GEOL451/GPR/SyntheticGPR/GEOL451_GPRMaxFiles/GEOL451_Ascan_2D.out\"\n",
    "outputs = Rx.defaultoutputs\n",
    "#outputs = ['Ez']\n",
    "plt.close()\n",
    "plt = mpl_plot(outputFilepath, [\"Ez\"], fft=False)\n",
    "plt.ylim([-600,600])\n",
    "import numpy as np\n",
    "plt.xticks(np.linspace(0, 1.7e-8, 18))\n",
    "plt.show()"
   ]
  },
  {
   "cell_type": "markdown",
   "metadata": {},
   "source": [
    "# Q5: Include the figure you generated from the previous cell (the time of the GPR pulse v the Ez field strength) in your homework\n",
    "\n",
    "We will also refer to this chart for the rest of our exercise, so keep it handy!"
   ]
  },
  {
   "cell_type": "markdown",
   "metadata": {},
   "source": [
    "# A Scan Interpretation\n",
    "In part to help you as we learn python, we are going to create a function to calculate the distance a pulse travels during its. \n",
    "\n",
    "The `def` word says that we are defining a function. We can then call the function whatever we want ('distance_from_peak_time' in this case) and add parameter names inside the parenthesis. We can give information about a function to users with docstrings (everything between the three quotes \"\"\"). The entire function definition is indented, and the return statement defines what the function \"spits out\" when it is done. \n",
    "\n",
    "If the parameters are set equal to a value in the function definition, these are optional parameters and these values are their default values. Any parameter without a default value is a required parameter/argument and must be defined whenever calling the funtion. \n",
    "\n",
    "The function is called using the name of the function and setting the values of the parameters equal to some value. For example, if we wanted to call the function below with a travel_time of 0.5 seconds and set a variable `distanceCalc` equal to the resulting distance we calculate, we would do the following:\n",
    "\n",
    "`distanceCalc = distance_from_peak_time(travel_time=0.5)`\n",
    "\n",
    "In this case, the other parameters of the function that are not set to specific values in the parentheses take on their default values.\n",
    "\n",
    "Run the cell below to define the function."
   ]
  },
  {
   "cell_type": "code",
   "execution_count": 9,
   "metadata": {},
   "outputs": [],
   "source": [
    "# Define a function to calculate \n",
    "def distance_from_peak_time(travel_time, waveform_peak_time= 5.656e-09, c=299792458.0, er=1.0):\n",
    "    \"\"\"This is a python function to calculate the distance a GPR pulse travels based on a travel_time we input.\n",
    "    \n",
    "    The parameters are define as follows (this is a standard format that allows computers to also read the docstrings).\n",
    "    The item before the colon for each parameter is the name of the parameter. \n",
    "    The value after the colon is the expected data type.\n",
    "    The second line (indented) of each parameter is a description of what it is.\n",
    "\n",
    "    PARAMETERS\n",
    "    ----------\n",
    "    travel_time : float\n",
    "        The time in seconds that it takes for the pulse of interest in our chart to peak\n",
    "    waveform_peak_time : float\n",
    "        The time in seconds that it takes for the original pulse itself to reach its highest amplitude\n",
    "    c : float\n",
    "        The speed of light in meters per second\n",
    "    er : float\n",
    "        The dielectric permittivity of the medium\n",
    "\n",
    "    RETURNS\n",
    "    -------\n",
    "    float\n",
    "        The approximate distance in meters the pulse has traveled.\n",
    "    \"\"\"\n",
    "\n",
    "    # This is where the actual code begins\n",
    "    from math import sqrt\n",
    "    \n",
    "    # Arrival time of initial part of wave\n",
    "    # This is the difference between the amount of time it takes the peak to form and when it appears on the record\n",
    "    corrected_peak_arrival_time = travel_time - waveform_peak_time\n",
    "\n",
    "    distance_traveled = abs(corrected_peak_arrival_time * (c / sqrt(er)))\n",
    "    print(f'Distance pulse traveled: {distance_traveled:.3f} meters ({distance_traveled*100:.2f} cm)')\n",
    "    \n",
    "    return distance_traveled"
   ]
  },
  {
   "cell_type": "markdown",
   "metadata": {},
   "source": [
    "The signal pulse starts at 0. The largest magnitude peak occurs at--roughly interpreting the chart--about 5.5 nanseconds (5.5e-9 seconds), when the plot dips down to nearly -600 V/m. Use the next code cell to calculate the distance to this \"object\".\n",
    "\n",
    "Set the `travel_time` parameter of the `distance_from_peak_time()` function equal to this peak value we read from the chart in the cell below. Don't change the other parameters for now."
   ]
  },
  {
   "cell_type": "code",
   "execution_count": null,
   "metadata": {},
   "outputs": [],
   "source": [
    "distance_from_peak_time(travel_time=)"
   ]
  },
  {
   "cell_type": "markdown",
   "metadata": {},
   "source": [
    "You should have gotten a result of about 0.047 m or 4.68 cm (if not, make sure your units are correct)\n",
    "\n",
    "There is great deal of uncertainty in the propogation characteristics at these very short distances, but we can use this value to talk about the scale of our distance."
   ]
  },
  {
   "cell_type": "markdown",
   "metadata": {},
   "source": [
    "### For the next few questions, we will be referring back to the depth of the top of our target. Just to jog your own memory, please refer back to your answer to question 2 to remind yourself what the depth to the top of the target is in the model.\n",
    "\n",
    "We will be comparing our next few answers to that depth"
   ]
  },
  {
   "cell_type": "markdown",
   "metadata": {},
   "source": [
    "# Q6: Why do you think we got an answer on the order of 4 or 5 cm for the distance traveled by the largest peak in the reading from the receiving antenna, when we know our target to be much deeper?\n",
    "Hint: Why did we also not change our er value from the default of 1, which is the dielectric permittivity value of air.\n",
    "\n",
    "(You do not need to get the correct answer here, I would rather you turn in a thoughtful response (even if you change your mind later))"
   ]
  },
  {
   "cell_type": "markdown",
   "metadata": {},
   "source": [
    "---\n",
    "\n",
    "Now, let's run the same `distance_from_peak_time()` function again, except, this time let's use the *second set* of peaks (the largest of which occurs between 11 nanoseconds (1.1e-8 seconds) and 13 nanoseconds (1.3 e-8 seconds) as our reference for the travel time.\n",
    "\n",
    "Enter the time value (in seconds) as the `travel_time` parameter in the `distance_from_peak_time()` function. \n",
    "\n",
    "This time, we will set our dielectric permittivity parameter to 6 as well (er=6). \n",
    "\n",
    "Again, the time_value parameter should be between 1.1e-8 and 1.3e-8."
   ]
  },
  {
   "cell_type": "code",
   "execution_count": null,
   "metadata": {},
   "outputs": [],
   "source": [
    "# Fill in the time in seconds of the largest of the second set of peaks between 11 and 13 nanoseconds\n",
    "distance_from_peak_time(travel_time=, er=6)"
   ]
  },
  {
   "cell_type": "markdown",
   "metadata": {},
   "source": [
    "# Q7: What value did you use for travel_time (i.e., the total time the wave traveled before it reached the receiving antenna)? What was the distance you calculated that it traveled?"
   ]
  },
  {
   "cell_type": "markdown",
   "metadata": {},
   "source": [
    "# Q8: The result you got back from this last code cell should be approximately twice the distance of the depth to the top of the target you recorded in Question 2. Why is this?"
   ]
  }
 ],
 "metadata": {
  "anaconda-cloud": {},
  "kernelspec": {
   "display_name": "Python 3",
   "language": "python",
   "name": "python3"
  },
  "language_info": {
   "codemirror_mode": {
    "name": "ipython",
    "version": 3
   },
   "file_extension": ".py",
   "mimetype": "text/x-python",
   "name": "python",
   "nbconvert_exporter": "python",
   "pygments_lexer": "ipython3",
   "version": "3.12.7"
  }
 },
 "nbformat": 4,
 "nbformat_minor": 0
}

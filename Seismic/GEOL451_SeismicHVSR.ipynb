{
 "cells": [
  {
   "cell_type": "markdown",
   "metadata": {},
   "source": [
    "# Seismic Data Processing and HVSR"
   ]
  },
  {
   "cell_type": "markdown",
   "metadata": {},
   "source": [
    "# Introduction"
   ]
  },
  {
   "cell_type": "markdown",
   "metadata": {},
   "source": [
    "Seismology is one of the oldest and largest branches of geophysics. \n",
    "Seismic data is somewhat unique in its breadth of application: from planet-scale studies to hyper-local site characterization. In large part because of the global nature of seismic phenomena and because of the highly destructive potential of earthquakes, seismic data is highly organized and is shared globally. Countries develop their own seismometer networks, the data from which are often available to be downloaded or \"streamed\" online. Seismic data has many national security implications: it is used to detect nuclear tests, monitor border crossings, and explore for mineral or oil resources.\n",
    "\n",
    "Seismic data (as well as HVSR specifically, which we will focus on here) is also one of the only types of data collected on Earth, the Moon, and Mars.\n",
    "\n",
    "A basic understanding of seismic data, processing, and terminology is often expected in most roles having to do with geopysics.\n",
    "Environmental applications of seismic geophysical data are not as common as, for example, GPR and ERT.\n",
    "Understanding how to work with seismic data is still important for those working in environmental geophysics for a number of reason:\n",
    "* Seismic data and terminology can be used in many environmental applications\n",
    "* Many of the processing techniques used in GPR are directly analogous to (if not exactly the same as) techniques developed for seismology\n",
    "* Seismic data have many near-surface applications that will often overlap with environmental investigations"
   ]
  },
  {
   "cell_type": "markdown",
   "metadata": {},
   "source": [
    "## Seismic Data"
   ]
  },
  {
   "cell_type": "markdown",
   "metadata": {},
   "source": [
    "Seismic data is at its core time-series data, and many of the processing techniques used in seismology are analagous to (if not exactly the same as) techniques used in and developed for broader signal processing algorithms.\n",
    "\n",
    "You should have an understanding of basic seismic terminology, but some terms worth emphasizing are included below:"
   ]
  },
  {
   "cell_type": "markdown",
   "metadata": {},
   "source": [
    "### General seismological terms:\n",
    "\n",
    "* **Seismometer**: an instrument that measures seismic data\n",
    "* **Seismic Network**: a collection of seismic stations, often managed by a single entity and with a singular purposes\n",
    "* **Seismic Station**: a seismometer (or multiple seismometers) that has been given a specific identifying code. Often, this is formatted as follows:\n",
    "    * NETWORK_NAME.STATION_NAME.LOCATION.CHANNEL\n",
    "* **Channel**: Often, the basic data feed or measurement coming out of a seismometer (or similar instrument). Many seismometer have more than one channel.\n",
    "    * These channels often consist of data read from a single geophone\n",
    "    * Among the most common configurations is a three-component seismometer: a vertical geophone, a horizontal geophone facing \"East\", and an orthogonal horizontal geophone facing \"north\"\n",
    "* **Geophone**: a device contained within a seismometer that measures ground motion\n",
    "    * The data from a geophone is often recorded as one channel in a seismometer's data record\n",
    "* **Component**: Often used interchangeably with \"channel\", but more specifically refers to directionality of the geophone\n",
    "    * The term **channel** implies a single set of data from a single geophone with consistent parameters\n",
    "\n",
    "### Terms or classes with a specific usage in Obspy\n",
    "* **Trace**: the basic building block of seismic data in Obspy\n",
    "    * A trace is a class in obspy that consists of a single stream of data and its associated metadata\n",
    "    * The time component of an obspy trace is always in UTC time\n",
    "    * Traces can have gaps in time, which can either be \"merged\" as a single trace with a \"masked\" array or \"split\" into multiple traces.\n",
    "    * Much of a trace's metadata is contained in its \"stats\" attribute\n",
    "* **Stream**: a collection of seismic data in Obspy, often the most basic data type read in from a real data source\n",
    "    * Streams consist of multiple traces. For example, the data from a three component seismometer ideally consists of three traces collected into in a single stream\n",
    "    * Most of the obspy functions or methods that work on streams actually perform on the individual traces in the stream.\n",
    "* **UTC**: \"Universal time coordinates,\" similar to an official scientific \"time zone\"\n",
    "    * For the most part, it is aligned with Greenwich Mean Time (i.e., the time in England)\n",
    "    * In obspy, these time coordinates are implented as `UTCDateTime` objects\n",
    "    * `UTCDateTime` is a class to standardize the time dimension of seismic data, but also has varous methods and attributes that allow manipulation from other common python time objects (such as objects in the Datetime module of the python standard library and matplotlib times for plotting)"
   ]
  },
  {
   "cell_type": "markdown",
   "metadata": {},
   "source": [
    "# Seismic Data: Data in time"
   ]
  },
  {
   "cell_type": "markdown",
   "metadata": {},
   "source": [
    "One of the most important aspects of seismic data is the time dimension. In fact, modern seismology depends almost entirely on the ability to accurately and precisely measure when ground motion occured. It is perhaps as important as the magnitude of the ground motion itself."
   ]
  },
  {
   "cell_type": "markdown",
   "metadata": {},
   "source": [
    "In order to work with time, we should first try understand the objects used for time in python.\n",
    "\n",
    "There was a relatively large change in how python deals with time natively that was released with python version 3.9, so please ensure you have version 3.9 or greater installed."
   ]
  },
  {
   "cell_type": "markdown",
   "metadata": {},
   "source": [
    "The primary time and date module in python's standard library is called `datetime`. The following is a non-comprehensive overview of python packages that deal with time:"
   ]
  },
  {
   "cell_type": "markdown",
   "metadata": {},
   "source": [
    "### Standard library (installed with python itself)\n",
    "* **datetime**: The primary python module for creating and dealing with dates and times\n",
    "    * **date**: similar to and compatible with datetime, but only uses dates\n",
    "    * **time**: simliar to and compatible with datetime, but only deals with times\n",
    "    * **tzinfo**: module for creating timezone objects, converting between timezones, etc.\n",
    "        * **timezone**: class for working with timezones and offsets from UTC, for example\n",
    "    * **timedelta**: module for getting the difference between two datetime values"
   ]
  },
  {
   "cell_type": "markdown",
   "metadata": {},
   "source": [
    "\n",
    "### 3rd-Party Libraries\n",
    "* **pytz**: installed as a dependency in pandas, pytz brings the [Olson (or IANA) timezone database](https://en.wikipedia.org/wiki/Tz_database) into Python\n",
    "* **tzdata**: a python data-only package that provides access to [Internet Assigned Numbers Authority (IANA) timezone database](https://www.iana.org/time-zones)\n",
    "* **matplotlib.pyplot.time**: submodule of matplotlib's pyplot that allows manipulation of time\n",
    "* **UTCDateTime**: a module of the obspy package, this is the primary object used to represent time in obspy\n"
   ]
  },
  {
   "cell_type": "markdown",
   "metadata": {},
   "source": [
    "Let's first familiarize ourselves with the datetime module.\n",
    "\n",
    "The datetime module contains several submodules. One is also called `datetime`. The `date` and `time` submodules are, to put it in a simple way, essentially one half each of the `datetime` class. (technically, `datetime` is a subclass of the `date` class)\n",
    "\n",
    "You can create a time object (at midnight: 00:00:00) with the following code. You can add arguments for hours, minutes, seconds, microseconds, and timezone information."
   ]
  },
  {
   "cell_type": "code",
   "execution_count": 106,
   "metadata": {},
   "outputs": [
    {
     "name": "stdout",
     "output_type": "stream",
     "text": [
      "00:00:00\n",
      "00:00:01.000005\n"
     ]
    },
    {
     "data": {
      "text/plain": [
       "datetime.time(0, 0)"
      ]
     },
     "execution_count": 106,
     "metadata": {},
     "output_type": "execute_result"
    }
   ],
   "source": [
    "import datetime\n",
    "# Create a time object at midnight\n",
    "midnightTime = datetime.time()\n",
    "#this is the same as datetime.time(hour=0, minute=0, second=0, microsecond=0)\n",
    "print(midnightTime)\n",
    "oneSecond5MicrosAfterMidnight = datetime.time(hour=0, minute=0, second=1, microsecond=5)\n",
    "print(oneSecond5MicrosAfterMidnight)\n",
    "midnightTime"
   ]
  },
  {
   "cell_type": "markdown",
   "metadata": {},
   "source": [
    "Now, that may be useful enough, but...which midnight do we mean (i.e., where on earth?). This is not specified by default with native datetime objects, but we can make these objects timezone-aware."
   ]
  },
  {
   "cell_type": "code",
   "execution_count": 154,
   "metadata": {},
   "outputs": [
    {
     "data": {
      "text/plain": [
       "datetime.time(0, 0, tzinfo=zoneinfo.ZoneInfo(key='US/Central'))"
      ]
     },
     "execution_count": 154,
     "metadata": {},
     "output_type": "execute_result"
    }
   ],
   "source": [
    "import datetime\n",
    "import zoneinfo\n",
    "usc = zoneinfo.ZoneInfo('US/Central') #\"US/Central\" is the IANA name for \n",
    "uscMidnight = datetime.time(tzinfo=usc)\n",
    "uscMidnight"
   ]
  },
  {
   "cell_type": "markdown",
   "metadata": {},
   "source": [
    "A printout of available timezones can be printed using the following code (this is a set of officially-recognized timezone names):"
   ]
  },
  {
   "cell_type": "code",
   "execution_count": null,
   "metadata": {},
   "outputs": [],
   "source": [
    "import zoneinfo\n",
    "zoneinfo.available_timezones()"
   ]
  },
  {
   "cell_type": "markdown",
   "metadata": {},
   "source": [
    "There is actually more that can be done on `datetime.datetime` objects with timezones. \n",
    "\n",
    "For example, let's say that we acquire data in the field using our local time (e.g., Central Time in the U.S.).\n",
    "\n",
    "However, our seismic data is likely to be in UTC. If we want to programatically \"translate\" this time, we can do so! Let's first define a `datetime` object in our local ('US/Central' in this case) timezone."
   ]
  },
  {
   "cell_type": "code",
   "execution_count": 135,
   "metadata": {},
   "outputs": [
    {
     "name": "stdout",
     "output_type": "stream",
     "text": [
      "2010-10-10 05:10:00-05:00\n"
     ]
    },
    {
     "data": {
      "text/plain": [
       "datetime.datetime(2010, 10, 10, 5, 10, tzinfo=zoneinfo.ZoneInfo(key='US/Central'))"
      ]
     },
     "execution_count": 135,
     "metadata": {},
     "output_type": "execute_result"
    }
   ],
   "source": [
    "import datetime\n",
    "import zoneinfo\n",
    "# First, define the date and timezone\n",
    "usc = zoneinfo.ZoneInfo('US/Central')\n",
    "\n",
    "# specifying tzinfo makes datetimes timezone-aware\n",
    "oct102010=datetime.datetime(2010, 10, 10, 5, 10, tzinfo=usc)\n",
    "# same as: oct102010=datetime.datetime(year=2010, month=10, day=10, hour=5, minute=10, tzinfo=usc)\n",
    "\n",
    "print(oct102010)\n",
    "oct102010"
   ]
  },
  {
   "cell_type": "markdown",
   "metadata": {},
   "source": [
    "Now, let's convert that timezone-aware datetime object to UTC"
   ]
  },
  {
   "cell_type": "code",
   "execution_count": 136,
   "metadata": {},
   "outputs": [
    {
     "name": "stdout",
     "output_type": "stream",
     "text": [
      "2010-10-10 10:10:00+00:00\n"
     ]
    },
    {
     "data": {
      "text/plain": [
       "datetime.datetime(2010, 10, 10, 10, 10, tzinfo=zoneinfo.ZoneInfo(key='UTC'))"
      ]
     },
     "execution_count": 136,
     "metadata": {},
     "output_type": "execute_result"
    }
   ],
   "source": [
    "oct102010UTC = oct102010.astimezone(zoneinfo.ZoneInfo('UTC'))\n",
    "print(oct102010UTC)\n",
    "oct102010UTC"
   ]
  },
  {
   "cell_type": "markdown",
   "metadata": {},
   "source": [
    "We are able (only relatively recently) to get `datetime` objects from the standard library specifically into UTC.\n",
    "\n",
    "Even so, python's native datetime module is not the most robust or intuitive for specifying times in UTC, which is very important for seismic data!\n",
    "\n",
    "So, the Obspy module has its own class for keeping track of datetimes to avoid this confusion (and to add useful functionality). This class is called `UTCDateTime`.\n",
    "\n",
    "For example, rather than microsecond precision out of the box, the `UTCDateTime` has nanosecond precision. There is also no confusion as to what timezone the time data is in, since it is always in UTC.\n",
    "\n",
    "`UTCDateTime` can be called similarly to the native python `datetime.datetime` class (i.e., by specifying year, month, day, etc.), but it also has many more options to maintain compatibility with a variety of seismic systems.\n",
    "\n",
    "For example, one of the more commonly used alternative date specifiers is called the \"Julian day\" which in this case essentially means the day of the year (e.g., Feb 1 would be the 32nd day of the year). The Julian Day can be used both for input and out output of `UTCDateTime` objects.\n",
    "\n",
    "Obspy's UTCDateTime can easily determine this value, see below:"
   ]
  },
  {
   "cell_type": "code",
   "execution_count": 151,
   "metadata": {},
   "outputs": [
    {
     "name": "stdout",
     "output_type": "stream",
     "text": [
      "283\n"
     ]
    }
   ],
   "source": [
    "import obspy\n",
    "oct102010UTCDT = obspy.UTCDateTime(2010, 10, 10, 5, 10)\n",
    "print(oct102010UTCDT.julday)"
   ]
  },
  {
   "cell_type": "markdown",
   "metadata": {},
   "source": [
    "Ok, practice on your own. We want to create a `UTCDateTime` object for the due date and time of this assignment (March 2, 2025 at 11:59pm and 59 seconds and  999,999 microseconds CENTRAL TIME).\n",
    "\n",
    "First, create a timezone-aware datetime object "
   ]
  },
  {
   "cell_type": "code",
   "execution_count": 232,
   "metadata": {},
   "outputs": [
    {
     "data": {
      "text/plain": [
       "2025-03-03T05:59:59.999999Z"
      ]
     },
     "execution_count": 232,
     "metadata": {},
     "output_type": "execute_result"
    }
   ],
   "source": [
    "import datetime\n",
    "import zoneinfo\n",
    "centralDT = datetime.datetime(2025, 3, 2, 23, 59, 59, 999999, tzinfo=zoneinfo.ZoneInfo(\"US/Central\"))\n",
    "obspy.UTCDateTime(centralDT)"
   ]
  },
  {
   "cell_type": "markdown",
   "metadata": {},
   "source": [
    "Now, translate it to a timezone of your choice (can be your home timezone if that is different than \"US/Central\", UTC, or whatever you choose!)"
   ]
  },
  {
   "cell_type": "code",
   "execution_count": null,
   "metadata": {},
   "outputs": [],
   "source": [
    "# Convert the time to a timezone of your choice!\n"
   ]
  },
  {
   "cell_type": "markdown",
   "metadata": {},
   "source": [
    "# Data in traces and streams"
   ]
  },
  {
   "cell_type": "markdown",
   "metadata": {},
   "source": [
    "Now, let's take a look at how data is stored and organized in obspy.\n",
    "\n",
    "You can read a short, sample dataset using obspy using `obspy.read()`. \n",
    "\n",
    "Normally, we would enter a filepath between the parentheses of the `read()` function. If we leave it blank, we will get a sample dataset.\n",
    "\n",
    "Read in that sample data stream below."
   ]
  },
  {
   "cell_type": "code",
   "execution_count": 187,
   "metadata": {},
   "outputs": [],
   "source": [
    "import obspy\n",
    "sampleStream = obspy.read()"
   ]
  },
  {
   "cell_type": "markdown",
   "metadata": {},
   "source": [
    "There are a few different ways to see what our dataset looks like. One is to simply print the string representation of the obspy Stream object.\n",
    "\n",
    "This will give a heading with the number of traces in the stream, and a brief summary of each stream."
   ]
  },
  {
   "cell_type": "code",
   "execution_count": 189,
   "metadata": {},
   "outputs": [
    {
     "name": "stdout",
     "output_type": "stream",
     "text": [
      "3 Trace(s) in Stream:\n",
      "BW.RJOB..EHZ | 2009-08-24T00:20:03.000000Z - 2009-08-24T00:20:32.990000Z | 100.0 Hz, 3000 samples\n",
      "BW.RJOB..EHN | 2009-08-24T00:20:03.000000Z - 2009-08-24T00:20:32.990000Z | 100.0 Hz, 3000 samples\n",
      "BW.RJOB..EHE | 2009-08-24T00:20:03.000000Z - 2009-08-24T00:20:32.990000Z | 100.0 Hz, 3000 samples\n"
     ]
    }
   ],
   "source": [
    "print(sampleStream)"
   ]
  },
  {
   "cell_type": "markdown",
   "metadata": {},
   "source": [
    "When you iterate through a Stream object (using a `for` loop, for example), it will go through each Trace object contained in the Stream object.\n",
    "\n",
    "This looks similar to printing the Stream object, but it does not contain the \"header\"."
   ]
  },
  {
   "cell_type": "code",
   "execution_count": 191,
   "metadata": {},
   "outputs": [
    {
     "name": "stdout",
     "output_type": "stream",
     "text": [
      "TRACE INFORMATION: BW.RJOB..EHZ | 2009-08-24T00:20:03.000000Z - 2009-08-24T00:20:32.990000Z | 100.0 Hz, 3000 samples\n",
      "TRACE INFORMATION: BW.RJOB..EHN | 2009-08-24T00:20:03.000000Z - 2009-08-24T00:20:32.990000Z | 100.0 Hz, 3000 samples\n",
      "TRACE INFORMATION: BW.RJOB..EHE | 2009-08-24T00:20:03.000000Z - 2009-08-24T00:20:32.990000Z | 100.0 Hz, 3000 samples\n"
     ]
    }
   ],
   "source": [
    "# Loop through traces\n",
    "for trace in sampleStream:\n",
    "    print('TRACE INFORMATION:', trace)"
   ]
  },
  {
   "cell_type": "markdown",
   "metadata": {},
   "source": [
    "You can also simply plot a stream, which will produce an individual subplot for each trace.\n",
    "\n",
    "Setting it equal to a variable will save the matplotlib figure into that variable."
   ]
  },
  {
   "cell_type": "code",
   "execution_count": 193,
   "metadata": {},
   "outputs": [
    {
     "data": {
      "image/png": "[encoded data removed]",
      "text/plain": [
       "<Figure size 800x750 with 3 Axes>"
      ]
     },
     "metadata": {},
     "output_type": "display_data"
    }
   ],
   "source": [
    "samplePlot = sampleStream.plot()\n"
   ]
  },
  {
   "cell_type": "markdown",
   "metadata": {},
   "source": [
    "Now, if we want to extract a specific trace from the stream, we have a few options.\n",
    "\n",
    "You can using indexing, just as if the traces were in a list. Note the data type this returns (i.e., an obspy Trace)"
   ]
  },
  {
   "cell_type": "code",
   "execution_count": 196,
   "metadata": {},
   "outputs": [
    {
     "name": "stdout",
     "output_type": "stream",
     "text": [
      "<class 'obspy.core.trace.Trace'>\n",
      "BW.RJOB..EHZ | 2009-08-24T00:20:03.000000Z - 2009-08-24T00:20:32.990000Z | 100.0 Hz, 3000 samples\n"
     ]
    }
   ],
   "source": [
    "firstTrace = sampleStream[0]\n",
    "zTrace = firstTrace # This just happens to be the Z trace\n",
    "print(type(zTrace))\n",
    "print(zTrace)"
   ]
  },
  {
   "cell_type": "markdown",
   "metadata": {},
   "source": [
    "We can also use the `.select()` method of the obspy streams to select all traces (only one in this instance) with a specific parameter.\n",
    "\n",
    "In this case, we'll select all traces in our stream from the \"EHE\" channel. (There can be multiple EHE channel traces if, for example, there is a large time gap in the data or if there are multiple stations' stream in the Stream object you are using). \n",
    "\n",
    "You can select using many attributes via the `.select()` method. In this case, we are selecting using the \"channel\" attribute.\n",
    "\n",
    "Note the data type that the `.select()` method returns (i.e., an obspy Stream). Even though there is only one Trace in this Stream, the `.select()` method returns a Stream. \n",
    "\n",
    "Later, we can use the indexing selection again to isolate a trace as needed."
   ]
  },
  {
   "cell_type": "code",
   "execution_count": 197,
   "metadata": {},
   "outputs": [
    {
     "name": "stdout",
     "output_type": "stream",
     "text": [
      "<class 'obspy.core.stream.Stream'>\n",
      "1 Trace(s) in Stream:\n",
      "BW.RJOB..EHE | 2009-08-24T00:20:03.000000Z - 2009-08-24T00:20:32.990000Z | 100.0 Hz, 3000 samples\n"
     ]
    }
   ],
   "source": [
    "eTraceStream = sampleStream.select(channel='EHE')\n",
    "print(type(eTraceStream))\n",
    "print(eTraceStream)"
   ]
  },
  {
   "cell_type": "markdown",
   "metadata": {},
   "source": [
    "You can also select using the component: "
   ]
  },
  {
   "cell_type": "code",
   "execution_count": 198,
   "metadata": {},
   "outputs": [
    {
     "name": "stdout",
     "output_type": "stream",
     "text": [
      "<class 'obspy.core.stream.Stream'>\n",
      "1 Trace(s) in Stream:\n",
      "BW.RJOB..EHN | 2009-08-24T00:20:03.000000Z - 2009-08-24T00:20:32.990000Z | 100.0 Hz, 3000 samples\n"
     ]
    }
   ],
   "source": [
    "nTrace = sampleStream.select(component='N')\n",
    "print(type(nTrace))\n",
    "print(nTrace)"
   ]
  },
  {
   "cell_type": "markdown",
   "metadata": {},
   "source": [
    "Now let's try to find the metadata attached to each Trace object.\n",
    "\n",
    "To do this, we'll use the `.stats` attribute of a Trace object. Note that Stream objects DO NOT have a `.stats` attribute.\n",
    "\n",
    "Run the next two cells to see what this looks like (the first one should come back with an error)"
   ]
  },
  {
   "cell_type": "code",
   "execution_count": 199,
   "metadata": {},
   "outputs": [
    {
     "ename": "AttributeError",
     "evalue": "'Stream' object has no attribute 'stats'",
     "output_type": "error",
     "traceback": [
      "\u001b[1;31m---------------------------------------------------------------------------\u001b[0m",
      "\u001b[1;31mAttributeError\u001b[0m                            Traceback (most recent call last)",
      "Cell \u001b[1;32mIn[199], line 1\u001b[0m\n\u001b[1;32m----> 1\u001b[0m \u001b[43meTrace\u001b[49m\u001b[38;5;241;43m.\u001b[39;49m\u001b[43mstats\u001b[49m\n",
      "\u001b[1;31mAttributeError\u001b[0m: 'Stream' object has no attribute 'stats'"
     ]
    }
   ],
   "source": [
    "eTraceStream.stats"
   ]
  },
  {
   "cell_type": "code",
   "execution_count": 201,
   "metadata": {},
   "outputs": [
    {
     "data": {
      "text/plain": [
       "         network: BW\n",
       "         station: RJOB\n",
       "        location: \n",
       "         channel: EHE\n",
       "       starttime: 2009-08-24T00:20:03.000000Z\n",
       "         endtime: 2009-08-24T00:20:32.990000Z\n",
       "   sampling_rate: 100.0\n",
       "           delta: 0.01\n",
       "            npts: 3000\n",
       "           calib: 1.0\n",
       "    back_azimuth: 100.0\n",
       "     inclination: 30.0\n",
       "        response: Channel Response\n",
       "\tFrom M/S (Velocity in Meters Per Second) to COUNTS (Digital Counts)\n",
       "\tOverall Sensitivity: 2.5168e+09 defined at 0.020 Hz\n",
       "\t4 stages:\n",
       "\t\tStage 1: PolesZerosResponseStage from M/S to V, gain: 1500\n",
       "\t\tStage 2: CoefficientsTypeResponseStage from V to COUNTS, gain: 1.67785e+06\n",
       "\t\tStage 3: FIRResponseStage from COUNTS to COUNTS, gain: 1\n",
       "\t\tStage 4: FIRResponseStage from COUNTS to COUNTS, gain: 1"
      ]
     },
     "execution_count": 201,
     "metadata": {},
     "output_type": "execute_result"
    }
   ],
   "source": [
    "# First, let's extract the first (and only) trace from the Stream, then we can access the .stats\n",
    "eTrace = eTraceStream[0]\n",
    "eTrace.stats"
   ]
  },
  {
   "cell_type": "markdown",
   "metadata": {},
   "source": [
    "The different properties of the `.stats` attribute can be accessed using square bracket or dot notation. See below:"
   ]
  },
  {
   "cell_type": "code",
   "execution_count": 205,
   "metadata": {},
   "outputs": [
    {
     "name": "stdout",
     "output_type": "stream",
     "text": [
      "2009-08-24T00:20:03.000000Z\n",
      "2009-08-24T00:20:32.990000Z\n"
     ]
    }
   ],
   "source": [
    "print(eTrace.stats['starttime'])\n",
    "print(eTrace.stats.endtime)"
   ]
  },
  {
   "cell_type": "markdown",
   "metadata": {},
   "source": [
    "Many of these stats refer to properties of the instrument or data stream itself.\n",
    "\n",
    "Specifically:\n",
    "\n",
    "Instrument:\n",
    "* **Network**: the seismic network of which the data is a part\n",
    "* **Station**: the station that recorded the data\n",
    "* **Location**: the location is a flexible term that can be used to differentiate between multiple stations at a single location, for example\n",
    "\n",
    "Data Stream:\n",
    "* **Channel**: the actual recording stream\n",
    "* **Starttime**: the starttime (in UTC) of this specific data object/stream\n",
    "* **Endtime**: the endtime (in UTC) of this specific data object/stream\n",
    "* **sampling_rate**: the number of data points/samples per second that make up the data\n",
    "* **delta**: the difference in time (in seconds) between each individual data point/sample\n",
    "* **npts**: the total number of data points/samples in the Trace\n",
    "* **response**: an obspy class containing a set of mathemetical parameters used to convert the electronic data (e.g, in volts) to physical motion (e.g., in millimeters) (see [here](https://docs.obspy.org/master/packages/autogen/obspy.core.inventory.response.Response.html))"
   ]
  },
  {
   "cell_type": "markdown",
   "metadata": {},
   "source": [
    "You do not need to understand the mathematics or physics of seismic instrument response for this course, but it is good to be familiar with a few general concepts regarding instrument response. \n",
    "\n",
    "You can access the `Response` obspy object of the trace using the `.response` property of the `.stats` attribute.\n",
    "\n",
    "That response object can be plotted and other data can be extracted from it."
   ]
  },
  {
   "cell_type": "markdown",
   "metadata": {},
   "source": [
    "First, plot the response data using the `.plot()` method. You will need to set the `min_freq`. Use 0.001 Hz. More information on the `.plot()` method of the `Response` class [here](https://docs.obspy.org/master/packages/autogen/obspy.core.inventory.response.Response.plot.html#obspy.core.inventory.response.Response.plot)."
   ]
  },
  {
   "cell_type": "markdown",
   "metadata": {},
   "source": [
    "# Q1: Include the plot of the frequency response of your eTrace variable in your Exercise Response"
   ]
  },
  {
   "cell_type": "markdown",
   "metadata": {},
   "source": [
    "Now we will do some other data manipulation with our seismic data.\n",
    "\n",
    "First we will read in some \"real\" seismic data. \n",
    "\n",
    "We will first practice by reading data from an online source.\n",
    "\n",
    "You can use the following code to find the available seismic data sources via the obspy `Client` class.\n",
    "\n",
    "These clients have access to different kinds of data. Some of these are earthquake catalogs, some have raw seismic data. We will use the latter in this exercise.\n",
    "\n",
    "We will be using the IRIS database. You can find the service URL in the output of the cell below ([http://service.iris.edu](http://service.iris.edu))"
   ]
  },
  {
   "cell_type": "code",
   "execution_count": null,
   "metadata": {},
   "outputs": [
    {
     "name": "stdout",
     "output_type": "stream",
     "text": [
      "AUSPASS     http://auspass.edu.au\n",
      "BGR         http://eida.bgr.de\n",
      "EIDA        http://eida-federator.ethz.ch\n",
      "EMSC        http://www.seismicportal.eu\n",
      "ETH         http://eida.ethz.ch\n",
      "GEOFON      http://geofon.gfz-potsdam.de\n",
      "GEONET      http://service.geonet.org.nz\n",
      "GFZ         http://geofon.gfz-potsdam.de\n",
      "ICGC        http://ws.icgc.cat\n",
      "IESDMC      http://batsws.earth.sinica.edu.tw\n",
      "INGV        http://webservices.ingv.it\n",
      "IPGP        http://ws.ipgp.fr\n",
      "IRIS        http://service.iris.edu\n",
      "IRISPH5     http://service.iris.edu\n",
      "ISC         http://www.isc.ac.uk\n",
      "KNMI        http://rdsa.knmi.nl\n",
      "KOERI       http://eida.koeri.boun.edu.tr\n",
      "LMU         https://erde.geophysik.uni-muenchen.de\n",
      "NCEDC       https://service.ncedc.org\n",
      "NIEP        http://eida-sc3.infp.ro\n",
      "NOA         http://eida.gein.noa.gr\n",
      "ODC         http://www.orfeus-eu.org\n",
      "ORFEUS      http://www.orfeus-eu.org\n",
      "RASPISHAKE  https://data.raspberryshake.org\n",
      "RESIF       http://ws.resif.fr\n",
      "RESIFPH5    http://ph5ws.resif.fr\n",
      "SCEDC       http://service.scedc.caltech.edu\n",
      "TEXNET      http://rtserve.beg.utexas.edu\n",
      "UIB-NORSAR  http://eida.geo.uib.no\n",
      "USGS        http://earthquake.usgs.gov\n",
      "USP         http://sismo.iag.usp.br\n"
     ]
    }
   ],
   "source": [
    "from obspy.clients.fdsn.header import URL_MAPPINGS\n",
    "for key in sorted(URL_MAPPINGS.keys()):\n",
    "    print(\"{0:<11} {1}\".format(key,  URL_MAPPINGS[key]))"
   ]
  },
  {
   "cell_type": "markdown",
   "metadata": {},
   "source": [
    "First find info on station"
   ]
  },
  {
   "cell_type": "code",
   "execution_count": null,
   "metadata": {},
   "outputs": [],
   "source": [
    "#First, create a Client class instance for IRIS data\n",
    "from obspy.clients.fdsn import Client\n",
    "irisClient = Client(\"IRIS\")\n"
   ]
  },
  {
   "cell_type": "markdown",
   "metadata": {},
   "source": [
    "Now find data"
   ]
  },
  {
   "cell_type": "code",
   "execution_count": null,
   "metadata": {},
   "outputs": [
    {
     "data": {
      "text/plain": [
       "FDSN Webservice Client (base url: http://service.iris.edu)\n",
       "Available Services: 'dataselect' (v1.1.9), 'event' (v1.1.13), 'station' (v1.1.52), 'available_event_catalogs', 'available_event_contributors'\n",
       "\n",
       "Use e.g. client.help('dataselect') for the\n",
       "parameter description of the individual services\n",
       "or client.help() for parameter description of\n",
       "all webservices."
      ]
     },
     "execution_count": 5,
     "metadata": {},
     "output_type": "execute_result"
    }
   ],
   "source": [
    "\n",
    "#Now, let's set our parameters\n",
    "# Info on get_waveforms() parameters: https://docs.obspy.org/packages/autogen/obspy.clients.fdsn.client.Client.get_waveforms.html#obspy.clients.fdsn.client.Client.get_waveforms\n",
    "# We need at minimum the network name, station name, location, channel, starttime, and endtime\n",
    "\n",
    "# Let's specify parameters for \n",
    "net='TA'\n",
    "stn= \"O44A\"\n",
    "loc='--'\n",
    "cha='BH*'\n",
    "sTime\n",
    "eTime\n",
    "\n",
    "\n",
    "irisClient.get_waveforms(network, \n",
    "                         station, \n",
    "                         location, \n",
    "                         channel, \n",
    "                         starttime, \n",
    "                         endtime)\n"
   ]
  },
  {
   "cell_type": "markdown",
   "metadata": {},
   "source": [
    "\n",
    "\n",
    "This data is included as part of your exercise and in the \"SeismicSampleData\" subfolder of the \"Seismic\" folder of the GEOL451 Github repository: `GEOL451/Seismic/SeismicSampleData`"
   ]
  }
 ],
 "metadata": {
  "kernelspec": {
   "display_name": "spritdev312",
   "language": "python",
   "name": "python3"
  },
  "language_info": {
   "codemirror_mode": {
    "name": "ipython",
    "version": 3
   },
   "file_extension": ".py",
   "mimetype": "text/x-python",
   "name": "python",
   "nbconvert_exporter": "python",
   "pygments_lexer": "ipython3",
   "version": "3.12.7"
  }
 },
 "nbformat": 4,
 "nbformat_minor": 2
}

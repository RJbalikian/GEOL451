{
 "cells": [
  {
   "cell_type": "markdown",
   "metadata": {},
   "source": [
    "# Seismic Data Processing and HVSR"
   ]
  },
  {
   "cell_type": "markdown",
   "metadata": {},
   "source": [
    "# Introduction"
   ]
  },
  {
   "cell_type": "markdown",
   "metadata": {},
   "source": [
    "Seismology is one of the oldest and largest branches of geophysics. \n",
    "Seismic data is somewhat unique in its breadth of application: from planet-scale studies to hyper-local site characterization. In large part because of the global nature of seismic phenomena and because of the highly destructive potential of earthquakes, seismic data is highly organized and is shared globally. Countries develop their own seismometer networks, the data from which are often available to be downloaded or \"streamed\" online. Seismic data has many national security implications: it is used to detect nuclear tests, monitor border crossings, and explore for mineral or oil resources.\n",
    "\n",
    "Seismic data (as well as HVSR specifically, which we will focus on here) is also one of the only types of data collected on Earth, the Moon, and Mars.\n",
    "\n",
    "A basic understanding of seismic data, processing, and terminology is often expected in most roles having to do with geopysics.\n",
    "Environmental applications of seismic geophysical data are not as common as, for example, GPR and ERT.\n",
    "Understanding how to work with seismic data is still important for those working in environmental geophysics for a number of reason:\n",
    "* Seismic data and terminology can be used in many environmental applications\n",
    "* Many of the processing techniques used in GPR are directly analogous to (if not exactly the same as) techniques developed for seismology\n",
    "* Seismic data have many near-surface applications that will often overlap with environmental investigations"
   ]
  },
  {
   "cell_type": "markdown",
   "metadata": {},
   "source": [
    "## Seismic Data"
   ]
  },
  {
   "cell_type": "markdown",
   "metadata": {},
   "source": [
    "Seismic data is at its core time-series data, and many of the processing techniques used in seismology are analagous to (if not exactly the same as) techniques used in and developed for broader signal processing algorithms.\n",
    "\n",
    "You should have an understanding of basic seismic terminology, but some terms worth emphasizing are included below:"
   ]
  },
  {
   "cell_type": "markdown",
   "metadata": {},
   "source": [
    "### General seismological terms:\n",
    "\n",
    "* **Seismometer**: an instrument that measures seismic data\n",
    "* **Seismic Network**: a collection of seismic stations, often managed by a single entity and with a singular purposes\n",
    "* **Seismic Station**: a seismometer (or multiple seismometers) that has been given a specific identifying code. Often, this is formatted as follows:\n",
    "    * NETWORK_NAME.STATION_NAME.LOCATION.CHANNEL\n",
    "* **Channel**: Often, the basic data feed or measurement coming out of a seismometer (or similar instrument). Many seismometer have more than one channel.\n",
    "    * These channels often consist of data read from a single geophone\n",
    "    * Among the most common configurations is a three-component seismometer: a vertical geophone, a horizontal geophone facing \"East\", and an orthogonal horizontal geophone facing \"north\"\n",
    "* **Geophone**: a device contained within a seismometer that measures ground motion\n",
    "    * The data from a geophone is often recorded as one channel in a seismometer's data record\n",
    "* **Component**: Often used interchangeably with \"channel\", but more specifically refers to directionality of the geophone\n",
    "    * The term **channel** implies a single set of data from a single geophone with consistent parameters\n",
    "\n",
    "### Terms or classes with a specific usage in Obspy\n",
    "* **Trace**: the basic building block of seismic data in Obspy\n",
    "    * A trace is a class in obspy that consists of a single stream of data and its associated metadata\n",
    "    * The time component of an obspy trace is always in UTC time\n",
    "    * Traces can have gaps in time, which can either be \"merged\" as a single trace with a \"masked\" array or \"split\" into multiple traces.\n",
    "    * Much of a trace's metadata is contained in its \"stats\" attribute\n",
    "* **Stream**: a collection of seismic data in Obspy, often the most basic data type read in from a real data source\n",
    "    * Streams consist of multiple traces. For example, the data from a three component seismometer ideally consists of three traces collected into in a single stream\n",
    "    * Most of the obspy functions or methods that work on streams actually perform on the individual traces in the stream.\n",
    "* **UTC**: \"Universal time coordinates,\" similar to an official scientific \"time zone\"\n",
    "    * For the most part, it is aligned with Greenwich Mean Time (i.e., the time in England)\n",
    "    * In obspy, these time coordinates are implented as `UTCDateTime` objects\n",
    "    * `UTCDateTime` is a class to standardize the timing, but also has varous methods and attributes that allow manipulation from other common python time objects (such as objects in the Datetime module of the python standard library and matplotlib times for plotting)"
   ]
  },
  {
   "cell_type": "markdown",
   "metadata": {},
   "source": [
    "# Seismic Data: Data in time"
   ]
  },
  {
   "cell_type": "markdown",
   "metadata": {},
   "source": [
    "One of the most important aspects of seismic data is the time dimension. In fact, modern seismology depends entirely on the ability to accurately and precisely measure when ground motion occured. It is perhaps as important as the magnitude of the ground motion itself."
   ]
  },
  {
   "cell_type": "markdown",
   "metadata": {},
   "source": [
    "In order to work with time, we should first try understand the objects used for time in python.\n",
    "\n",
    "There was a relatively large change in how python deals with time natively that was released with python version 3.9, so please ensure you have version 3.9 or greater installed."
   ]
  },
  {
   "cell_type": "markdown",
   "metadata": {},
   "source": [
    "The primary time and date module in python's standard library is datetime. The following is a non-comprehensive overview of python packages that deal with time:"
   ]
  },
  {
   "cell_type": "markdown",
   "metadata": {},
   "source": [
    "### Standard library (installed with python itself)\n",
    "* **datetime**: The primary python module for creating and dealing with dates and times\n",
    "    * **date**: similar to and compatible with datetime, but only uses dates\n",
    "    * **time**: simliar to and compatible with datetime, but only deals with times\n",
    "    * **tzinfo**: module for creating timezone objects, converting between timezones, etc.\n",
    "        * **timezone**: class for working with timezones and offsets from UTC, for example\n",
    "    * **timedelta**: module for getting the difference between two datetime values"
   ]
  },
  {
   "cell_type": "markdown",
   "metadata": {},
   "source": [
    "\n",
    "### 3rd-Party Libraries\n",
    "* **pytz**: installed as a dependency in pandas, so it is widely used\n",
    "* **tzdata**: \n",
    "* **matplotlib.pyplot.time**: submodule of matplotlib's pyplot that allows manipulation of time\n",
    "* **UTCDateTime**: a module of the obspy package, this is the primary object used to represent time in obspy\n"
   ]
  },
  {
   "cell_type": "markdown",
   "metadata": {},
   "source": [
    "Let's first familiarize ourselves with the datetime module.\n",
    "\n",
    "The datetime module contains several submodules. One is also called `datetime`. The `date` and `time` submodules are, to put it in a simple way, essentially one half each of the `datetime` class.\n",
    "\n",
    "You can create a time object (at midnight: 00:00:00) with the following code. You can add arguments for hours, minutes, seconds, microseconds, and timezone information."
   ]
  },
  {
   "cell_type": "code",
   "execution_count": 106,
   "metadata": {},
   "outputs": [
    {
     "name": "stdout",
     "output_type": "stream",
     "text": [
      "00:00:00\n",
      "00:00:01.000005\n"
     ]
    },
    {
     "data": {
      "text/plain": [
       "datetime.time(0, 0)"
      ]
     },
     "execution_count": 106,
     "metadata": {},
     "output_type": "execute_result"
    }
   ],
   "source": [
    "import datetime\n",
    "# Create a time object at midnight\n",
    "midnightTime = datetime.time()\n",
    "#this is the same as datetime.time(hour=0, minute=0, second=0, microsecond=0)\n",
    "print(midnightTime)\n",
    "oneSecond5MicrosAfterMidnight = datetime.time(hour=0, minute=0, second=1, microsecond=5)\n",
    "print(oneSecond5MicrosAfterMidnight)\n",
    "midnightTime"
   ]
  },
  {
   "cell_type": "markdown",
   "metadata": {},
   "source": [
    "Now, that may be useful enough, but...which midnight do we mean (i.e., where on earth?). This is not specified by default with native datetime objects, but we can make these objects timezone-aware."
   ]
  },
  {
   "cell_type": "code",
   "execution_count": 154,
   "metadata": {},
   "outputs": [
    {
     "data": {
      "text/plain": [
       "datetime.time(0, 0, tzinfo=zoneinfo.ZoneInfo(key='US/Central'))"
      ]
     },
     "execution_count": 154,
     "metadata": {},
     "output_type": "execute_result"
    }
   ],
   "source": [
    "import datetime\n",
    "import zoneinfo\n",
    "usc = zoneinfo.ZoneInfo('US/Central')\n",
    "uscMidnight = datetime.time(tzinfo=usc)\n",
    "uscMidnight"
   ]
  },
  {
   "cell_type": "markdown",
   "metadata": {},
   "source": [
    "A printout of available timezones can be printed using the following code (this is a set of officially-recognized timezone names):"
   ]
  },
  {
   "cell_type": "code",
   "execution_count": null,
   "metadata": {},
   "outputs": [],
   "source": [
    "import zoneinfo\n",
    "zoneinfo.available_timezones()"
   ]
  },
  {
   "cell_type": "markdown",
   "metadata": {},
   "source": [
    "There is actually more that can be done on `datetime.datetime` objects with timezones. \n",
    "\n",
    "For example, let's say that we acquire data in the field using our local time (e.g., Central Time in the U.S.).\n",
    "\n",
    "However, our seismic data is likely to be in UTC. If we want to programatically \"translate\" this time, we can do so! Let's first define a `datetime` object"
   ]
  },
  {
   "cell_type": "code",
   "execution_count": 135,
   "metadata": {},
   "outputs": [
    {
     "name": "stdout",
     "output_type": "stream",
     "text": [
      "2010-10-10 05:10:00-05:00\n"
     ]
    },
    {
     "data": {
      "text/plain": [
       "datetime.datetime(2010, 10, 10, 5, 10, tzinfo=zoneinfo.ZoneInfo(key='US/Central'))"
      ]
     },
     "execution_count": 135,
     "metadata": {},
     "output_type": "execute_result"
    }
   ],
   "source": [
    "import datetime\n",
    "import zoneinfo\n",
    "# First, define the date and timezone\n",
    "usc = zoneinfo.ZoneInfo('US/Central')\n",
    "\n",
    "# specifying tzinfo makes datetimes timezone-aware\n",
    "oct102010=datetime.datetime(2010, 10, 10, 5, 10, tzinfo=usc)\n",
    "# same as: oct102010=datetime.datetime(year=2010, month=10, day=10, hour=5, minute=10, tzinfo=usc)\n",
    "\n",
    "print(oct102010)\n",
    "oct102010"
   ]
  },
  {
   "cell_type": "markdown",
   "metadata": {},
   "source": [
    "Now, let's convert that timezone-aware datetime object to UTC"
   ]
  },
  {
   "cell_type": "code",
   "execution_count": 136,
   "metadata": {},
   "outputs": [
    {
     "name": "stdout",
     "output_type": "stream",
     "text": [
      "2010-10-10 10:10:00+00:00\n"
     ]
    },
    {
     "data": {
      "text/plain": [
       "datetime.datetime(2010, 10, 10, 10, 10, tzinfo=zoneinfo.ZoneInfo(key='UTC'))"
      ]
     },
     "execution_count": 136,
     "metadata": {},
     "output_type": "execute_result"
    }
   ],
   "source": [
    "oct102010UTC = oct102010.astimezone(zoneinfo.ZoneInfo('UTC'))\n",
    "print(oct102010UTC)\n",
    "oct102010UTC"
   ]
  },
  {
   "cell_type": "markdown",
   "metadata": {},
   "source": [
    "We are able (only relatively recently) to get native datetime objects into UTC.\n",
    "\n",
    "But, python's native datetime module is not the most robust or intuitive for specifying times in UTC, which is very important for seismic data!\n",
    "\n",
    "So, the Obspy module has its own class for keeping track of datetimes to avoid this confusion (and to add useful functionaliy). This class is called `UTCDateTime`\n",
    "\n",
    "For example, rather than microsecond precision out of the box, the `UTCDateTime` has nanosecond precision. There is also no confusion as to what timezone the time data is in, since it is always in UTC.\n",
    "\n",
    "`UTCDateTime` can be called similarly to the native python `datetime.datetime` class (i.e., by specifying year, month, day, etc.), but it also has many more options to maintain compatibility with a variety of seismic systems.\n",
    "\n",
    "For example, one of the more commonly used alternative date specifiers is called the \"Julian day\" which in this case essentially means the day of the year (e.g., Feb 1 would be the 32nd day of the year). The Julian Day can be used both for input and out output of `UTCDateTime` objects.\n",
    "\n",
    "Obspy's UTCDateTime can easily determine this value, see below:"
   ]
  },
  {
   "cell_type": "code",
   "execution_count": 151,
   "metadata": {},
   "outputs": [
    {
     "name": "stdout",
     "output_type": "stream",
     "text": [
      "283\n"
     ]
    }
   ],
   "source": [
    "import obspy\n",
    "oct102010UTCDT = obspy.UTCDateTime(2010, 10, 10, 5, 10)\n",
    "print(oct102010UTCDT.julday)"
   ]
  },
  {
   "cell_type": "markdown",
   "metadata": {},
   "source": [
    "# Data in traces and streams"
   ]
  },
  {
   "cell_type": "code",
   "execution_count": 156,
   "metadata": {},
   "outputs": [
    {
     "data": {
      "text/plain": [
       "3 Trace(s) in Stream:\n",
       "BW.RJOB..EHZ | 2009-08-24T00:20:03.000000Z - 2009-08-24T00:20:32.990000Z | 100.0 Hz, 3000 samples\n",
       "BW.RJOB..EHN | 2009-08-24T00:20:03.000000Z - 2009-08-24T00:20:32.990000Z | 100.0 Hz, 3000 samples\n",
       "BW.RJOB..EHE | 2009-08-24T00:20:03.000000Z - 2009-08-24T00:20:32.990000Z | 100.0 Hz, 3000 samples"
      ]
     },
     "execution_count": 156,
     "metadata": {},
     "output_type": "execute_result"
    }
   ],
   "source": [
    "import obspy\n",
    "sampleStream = obspy.read()\n",
    "sampleStream"
   ]
  },
  {
   "cell_type": "code",
   "execution_count": 158,
   "metadata": {},
   "outputs": [
    {
     "name": "stdout",
     "output_type": "stream",
     "text": [
      "TRACE: BW.RJOB..EHZ | 2009-08-24T00:20:03.000000Z - 2009-08-24T00:20:32.990000Z | 100.0 Hz, 3000 samples\n",
      "TRACE: BW.RJOB..EHN | 2009-08-24T00:20:03.000000Z - 2009-08-24T00:20:32.990000Z | 100.0 Hz, 3000 samples\n",
      "TRACE: BW.RJOB..EHE | 2009-08-24T00:20:03.000000Z - 2009-08-24T00:20:32.990000Z | 100.0 Hz, 3000 samples\n"
     ]
    }
   ],
   "source": [
    "# Loop through traces\n",
    "for trace in sampleStream:\n",
    "    print('TRACE:', trace)"
   ]
  },
  {
   "cell_type": "code",
   "execution_count": 170,
   "metadata": {},
   "outputs": [
    {
     "name": "stdout",
     "output_type": "stream",
     "text": [
      "<class 'obspy.core.trace.Trace'>\n",
      "BW.RJOB..EHZ | 2009-08-24T00:20:03.000000Z - 2009-08-24T00:20:32.990000Z | 100.0 Hz, 3000 samples\n"
     ]
    }
   ],
   "source": [
    "firstTrace = sampleStream[0]\n",
    "zTrace = firstTrace\n",
    "print(type(zTrace))\n",
    "print(zTrace)"
   ]
  },
  {
   "cell_type": "code",
   "execution_count": 176,
   "metadata": {},
   "outputs": [
    {
     "name": "stdout",
     "output_type": "stream",
     "text": [
      "<class 'obspy.core.stream.Stream'>\n",
      "1 Trace(s) in Stream:\n",
      "BW.RJOB..EHE | 2009-08-24T00:20:03.000000Z - 2009-08-24T00:20:32.990000Z | 100.0 Hz, 3000 samples\n"
     ]
    }
   ],
   "source": [
    "eTrace = sampleStream.select(channel='EHE')\n",
    "print(type(eTrace))\n",
    "print(eTrace)"
   ]
  },
  {
   "cell_type": "code",
   "execution_count": 172,
   "metadata": {},
   "outputs": [
    {
     "name": "stdout",
     "output_type": "stream",
     "text": [
      "<class 'obspy.core.stream.Stream'>\n",
      "1 Trace(s) in Stream:\n",
      "BW.RJOB..EHN | 2009-08-24T00:20:03.000000Z - 2009-08-24T00:20:32.990000Z | 100.0 Hz, 3000 samples\n"
     ]
    }
   ],
   "source": [
    "nTrace = sampleStream.select(component='N')\n",
    "print(type(nTrace))\n",
    "print(nTrace)"
   ]
  },
  {
   "cell_type": "code",
   "execution_count": 184,
   "metadata": {},
   "outputs": [
    {
     "data": {
      "text/plain": [
       "         network: BW\n",
       "         station: RJOB\n",
       "        location: \n",
       "         channel: EHE\n",
       "       starttime: 2009-08-24T00:20:03.000000Z\n",
       "         endtime: 2009-08-24T00:20:32.990000Z\n",
       "   sampling_rate: 100.0\n",
       "           delta: 0.01\n",
       "            npts: 3000\n",
       "           calib: 1.0\n",
       "    back_azimuth: 100.0\n",
       "     inclination: 30.0\n",
       "        response: Channel Response\n",
       "\tFrom M/S (Velocity in Meters Per Second) to COUNTS (Digital Counts)\n",
       "\tOverall Sensitivity: 2.5168e+09 defined at 0.020 Hz\n",
       "\t4 stages:\n",
       "\t\tStage 1: PolesZerosResponseStage from M/S to V, gain: 1500\n",
       "\t\tStage 2: CoefficientsTypeResponseStage from V to COUNTS, gain: 1.67785e+06\n",
       "\t\tStage 3: FIRResponseStage from COUNTS to COUNTS, gain: 1\n",
       "\t\tStage 4: FIRResponseStage from COUNTS to COUNTS, gain: 1"
      ]
     },
     "execution_count": 184,
     "metadata": {},
     "output_type": "execute_result"
    }
   ],
   "source": [
    "eTraceActual = eTrace[0]\n",
    "eTraceActual.stats"
   ]
  }
 ],
 "metadata": {
  "kernelspec": {
   "display_name": "hvsr311",
   "language": "python",
   "name": "python3"
  },
  "language_info": {
   "codemirror_mode": {
    "name": "ipython",
    "version": 3
   },
   "file_extension": ".py",
   "mimetype": "text/x-python",
   "name": "python",
   "nbconvert_exporter": "python",
   "pygments_lexer": "ipython3",
   "version": "3.11.9"
  }
 },
 "nbformat": 4,
 "nbformat_minor": 2
}

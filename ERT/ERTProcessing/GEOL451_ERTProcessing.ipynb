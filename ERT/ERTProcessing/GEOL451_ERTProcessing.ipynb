{
  "cells": [
    {
      "cell_type": "markdown",
      "metadata": {
        "id": "vtikvVCv-Yur"
      },
      "source": [
        "# Forward Modeling Using Resipy"
      ]
    },
    {
      "cell_type": "markdown",
      "metadata": {},
      "source": [
        "## Run this first cell to setup your notebook"
      ]
    },
    {
      "cell_type": "markdown",
      "metadata": {},
      "source": [
        "This will import all the necessary libraries and set up plotting parameters for nice looking plots.\n",
        "\n",
        "\n",
        "You will likely get text output about some libraries that Resipy uses, something akin to:\n",
        "\n",
        ">API path =  /home/codespace/.python/current/lib/python3.12/site-packages/resipy <br>\n",
        ">ResIPy version =  3.6.1 <br>\n",
        ">cR2.exe not found, will download it...done <br>\n",
        ">R3t.exe not found, will download it...done <br>\n",
        ">cR3t.exe not found, will download it...done <br>\n",
        "\n",
        "\n",
        "That is expected. \n",
        "\n",
        "If you receive the following message after running this first cell, you will need to setup your environment, per the `/ERT/Readme.md` file.\n",
        "\n",
        ">This version of ResIPy requires wine to run R2.exe, please consider installing <br>\n",
        ">'wine is not an emulator' package @ https://www.winehq.org/. On linux wine can be found on <br>\n",
        ">most reprositories (ubuntu/debian users can use \"sudo apt install wine-stable\"). Wine acts as <br>\n",
        ">a compatiblity layer between unix like OS systems (ie macOS and linux) and windows programs.  <br>\n",
        ">    \n",
        ">/bin/sh: 1: wine: not found\n",
        "\n",
        "\n",
        "(you may be able to run the first few cells without WINE, but you will not be able to create meshes and do later steps)"
      ]
    },
    {
      "cell_type": "code",
      "execution_count": null,
      "metadata": {},
      "outputs": [],
      "source": [
        "import warnings\n",
        "warnings.filterwarnings('ignore')\n",
        "import os\n",
        "import sys\n",
        "sys.path.append((os.path.relpath('../src'))) # add here the relative path of the API folder\n",
        "import matplotlib.pyplot as plt\n",
        "import pandas as pd\n",
        "\n",
        "import ipywidgets\n",
        "\n",
        "import numpy as np # numpy for electrode generation\n",
        "from resipy import Project\n",
        "\n",
        "#This adjusts the plot settings in the notebook\n",
        "plt.rcParams['xtick.bottom'] = plt.rcParams['xtick.labelbottom'] = False\n",
        "plt.rcParams['xtick.top'] = plt.rcParams['xtick.labeltop'] = True\n",
        "\n",
        "plt.rcParams[\"figure.figsize\"] = (25, 8) #Adjust these values to adjust plot sizes. (1st value is horizontal/width, 2nd is vertical/height)"
      ]
    },
    {
      "cell_type": "markdown",
      "metadata": {},
      "source": [
        "# Preprocess data to get x, y, z location"
      ]
    },
    {
      "cell_type": "code",
      "execution_count": null,
      "metadata": {},
      "outputs": [],
      "source": []
    },
    {
      "cell_type": "markdown",
      "metadata": {
        "id": "36gfNZQcWuGc"
      },
      "source": [
        "## Create ResiPy Project\n",
        "\n",
        "In resipy, we create a Resipy object and save that to a variable on which we will perform various methods later.\n",
        "\n",
        "Resipy uses the [R2 code library](http://www.es.lancs.ac.uk/people/amb/Freeware/R2/R2.htm) to perform ERT analysis, so the project type we will designate is \"R2\".\n",
        "\n",
        "You will also need to start again at this cell to reset your project if you keep run into errors later on."
      ]
    },
    {
      "cell_type": "code",
      "execution_count": null,
      "metadata": {
        "colab": {
          "base_uri": "https://localhost:8080/"
        },
        "id": "Vlspi-pwxM-O",
        "outputId": "437c85c9-d5db-45d0-ac51-63aeeb5dc9dd"
      },
      "outputs": [],
      "source": [
        "k = Project(typ='R2') # create R2 object"
      ]
    },
    {
      "cell_type": "markdown",
      "metadata": {},
      "source": [
        "Typical resistivities of geologic materials\n",
        "\n",
        "<img src=\"../resistivity-graph.jpg\" alt=\"Typical Resistivities of Geologic Materials\" />"
      ]
    }
  ],
  "metadata": {
    "colab": {
      "collapsed_sections": [],
      "provenance": []
    },
    "kernelspec": {
      "display_name": "Python 3",
      "language": "python",
      "name": "python3"
    },
    "language_info": {
      "codemirror_mode": {
        "name": "ipython",
        "version": 3
      },
      "file_extension": ".py",
      "mimetype": "text/x-python",
      "name": "python",
      "nbconvert_exporter": "python",
      "pygments_lexer": "ipython3",
      "version": "3.12.1"
    },
    "widgets": {
      "application/vnd.jupyter.widget-state+json": {
        "19a1b46828c6442aaa62d2f04f1ecb8d": {
          "model_module": "@jupyter-widgets/controls",
          "model_module_version": "1.5.0",
          "model_name": "DescriptionStyleModel",
          "state": {
            "_model_module": "@jupyter-widgets/controls",
            "_model_module_version": "1.5.0",
            "_model_name": "DescriptionStyleModel",
            "_view_count": null,
            "_view_module": "@jupyter-widgets/base",
            "_view_module_version": "1.2.0",
            "_view_name": "StyleView",
            "description_width": ""
          }
        },
        "9c2e800ffb6c4d6095e2c94b8b673d74": {
          "model_module": "@jupyter-widgets/base",
          "model_module_version": "1.2.0",
          "model_name": "LayoutModel",
          "state": {
            "_model_module": "@jupyter-widgets/base",
            "_model_module_version": "1.2.0",
            "_model_name": "LayoutModel",
            "_view_count": null,
            "_view_module": "@jupyter-widgets/base",
            "_view_module_version": "1.2.0",
            "_view_name": "LayoutView",
            "align_content": null,
            "align_items": null,
            "align_self": null,
            "border": null,
            "bottom": null,
            "display": null,
            "flex": null,
            "flex_flow": null,
            "grid_area": null,
            "grid_auto_columns": null,
            "grid_auto_flow": null,
            "grid_auto_rows": null,
            "grid_column": null,
            "grid_gap": null,
            "grid_row": null,
            "grid_template_areas": null,
            "grid_template_columns": null,
            "grid_template_rows": null,
            "height": null,
            "justify_content": null,
            "justify_items": null,
            "left": null,
            "margin": null,
            "max_height": null,
            "max_width": null,
            "min_height": null,
            "min_width": null,
            "object_fit": null,
            "object_position": null,
            "order": null,
            "overflow": null,
            "overflow_x": null,
            "overflow_y": null,
            "padding": null,
            "right": null,
            "top": null,
            "visibility": null,
            "width": null
          }
        },
        "9eae707218834d84a38eb0e1041aefdf": {
          "model_module": "@jupyter-widgets/controls",
          "model_module_version": "1.5.0",
          "model_name": "DropdownModel",
          "state": {
            "_dom_classes": [],
            "_model_module": "@jupyter-widgets/controls",
            "_model_module_version": "1.5.0",
            "_model_name": "DropdownModel",
            "_options_labels": [
              "Dipole-Dipole1",
              "Dipole-Dipole2",
              "Wenner (alpha)",
              "Wenner (beta)",
              "Wenner (gamma)",
              "Schlumberger 1",
              "Schlumberger2",
              "Multi-Gradient"
            ],
            "_view_count": null,
            "_view_module": "@jupyter-widgets/controls",
            "_view_module_version": "1.5.0",
            "_view_name": "DropdownView",
            "description": "Array",
            "description_tooltip": null,
            "disabled": false,
            "index": 6,
            "layout": "IPY_MODEL_9c2e800ffb6c4d6095e2c94b8b673d74",
            "style": "IPY_MODEL_c889811daf8148b488e6f0ad5b250bbb"
          }
        },
        "a315ea1f2be14cafbde22ef44ea3d687": {
          "model_module": "@jupyter-widgets/base",
          "model_module_version": "1.2.0",
          "model_name": "LayoutModel",
          "state": {
            "_model_module": "@jupyter-widgets/base",
            "_model_module_version": "1.2.0",
            "_model_name": "LayoutModel",
            "_view_count": null,
            "_view_module": "@jupyter-widgets/base",
            "_view_module_version": "1.2.0",
            "_view_name": "LayoutView",
            "align_content": null,
            "align_items": null,
            "align_self": null,
            "border": null,
            "bottom": null,
            "display": null,
            "flex": null,
            "flex_flow": null,
            "grid_area": null,
            "grid_auto_columns": null,
            "grid_auto_flow": null,
            "grid_auto_rows": null,
            "grid_column": null,
            "grid_gap": null,
            "grid_row": null,
            "grid_template_areas": null,
            "grid_template_columns": null,
            "grid_template_rows": null,
            "height": null,
            "justify_content": null,
            "justify_items": null,
            "left": null,
            "margin": null,
            "max_height": null,
            "max_width": null,
            "min_height": null,
            "min_width": null,
            "object_fit": null,
            "object_position": null,
            "order": null,
            "overflow": null,
            "overflow_x": null,
            "overflow_y": null,
            "padding": null,
            "right": null,
            "top": null,
            "visibility": null,
            "width": null
          }
        },
        "c889811daf8148b488e6f0ad5b250bbb": {
          "model_module": "@jupyter-widgets/controls",
          "model_module_version": "1.5.0",
          "model_name": "DescriptionStyleModel",
          "state": {
            "_model_module": "@jupyter-widgets/controls",
            "_model_module_version": "1.5.0",
            "_model_name": "DescriptionStyleModel",
            "_view_count": null,
            "_view_module": "@jupyter-widgets/base",
            "_view_module_version": "1.2.0",
            "_view_name": "StyleView",
            "description_width": ""
          }
        },
        "ec5c7422bce44f8484e4f99143098024": {
          "model_module": "@jupyter-widgets/controls",
          "model_module_version": "1.5.0",
          "model_name": "DropdownModel",
          "state": {
            "_dom_classes": [],
            "_model_module": "@jupyter-widgets/controls",
            "_model_module_version": "1.5.0",
            "_model_name": "DropdownModel",
            "_options_labels": [
              "Dipole-Dipole1",
              "Dipole-Dipole2",
              "Wenner (alpha)",
              "Wenner (beta)",
              "Wenner (gamma)",
              "Schlumberger 1",
              "Schlumberger2",
              "Multi-Gradient"
            ],
            "_view_count": null,
            "_view_module": "@jupyter-widgets/controls",
            "_view_module_version": "1.5.0",
            "_view_name": "DropdownView",
            "description": "Array",
            "description_tooltip": null,
            "disabled": false,
            "index": 1,
            "layout": "IPY_MODEL_a315ea1f2be14cafbde22ef44ea3d687",
            "style": "IPY_MODEL_19a1b46828c6442aaa62d2f04f1ecb8d"
          }
        }
      }
    }
  },
  "nbformat": 4,
  "nbformat_minor": 0
}

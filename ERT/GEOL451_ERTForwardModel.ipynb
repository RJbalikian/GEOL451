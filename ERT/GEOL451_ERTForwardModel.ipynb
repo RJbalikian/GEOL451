{
  "cells": [
    {
      "cell_type": "markdown",
      "metadata": {
        "id": "vtikvVCv-Yur"
      },
      "source": [
        "# Forward Modeling Using Resipy"
      ]
    },
    {
      "cell_type": "markdown",
      "metadata": {},
      "source": [
        "## Run this first cell to setup your notebook"
      ]
    },
    {
      "cell_type": "code",
      "execution_count": null,
      "metadata": {},
      "outputs": [],
      "source": [
        "import warnings\n",
        "warnings.filterwarnings('ignore')\n",
        "import os\n",
        "import sys\n",
        "sys.path.append((os.path.relpath('../src'))) # add here the relative path of the API folder\n",
        "import matplotlib.pyplot as plt\n",
        "import pandas as pd\n",
        "\n",
        "import ipywidgets\n",
        "\n",
        "import numpy as np # numpy for electrode generation\n",
        "from resipy import Project\n",
        "\n",
        "#This adjusts the plot settings in the notebook\n",
        "plt.rcParams['xtick.bottom'] = plt.rcParams['xtick.labelbottom'] = False\n",
        "plt.rcParams['xtick.top'] = plt.rcParams['xtick.labeltop'] = True\n",
        "\n",
        "plt.rcParams[\"figure.figsize\"] = (25, 8) #Adjust these values to adjust plot sizes. (1st value is horizontal/width, 2nd is vertical/height)"
      ]
    },
    {
      "cell_type": "markdown",
      "metadata": {
        "id": "36gfNZQcWuGc"
      },
      "source": [
        "## Create ResiPy Project\n",
        "\n",
        "Also, start again at this cell to reset your project if you keep running into errors"
      ]
    },
    {
      "cell_type": "code",
      "execution_count": null,
      "metadata": {
        "colab": {
          "base_uri": "https://localhost:8080/"
        },
        "id": "Vlspi-pwxM-O",
        "outputId": "437c85c9-d5db-45d0-ac51-63aeeb5dc9dd"
      },
      "outputs": [],
      "source": [
        "k = Project(typ='R2') # create R2 object"
      ]
    },
    {
      "cell_type": "markdown",
      "metadata": {
        "id": "4ND1tXZ0-gIK"
      },
      "source": [
        "## Input Electrode and Profile Geometry Information\n",
        "\n",
        "Run cell and follow instructions to input data.\n",
        "\n",
        "***Set electrode spacing of 2 (meters) and 64 electrodes.***"
      ]
    },
    {
      "cell_type": "code",
      "execution_count": null,
      "metadata": {
        "colab": {
          "base_uri": "https://localhost:8080/",
          "height": 458
        },
        "id": "BdtbFUEU4yKk",
        "outputId": "c8e27272-a7ea-42ee-c668-46647caf55a8"
      },
      "outputs": [],
      "source": [
        "electrodeSpacing = \n",
        "numberOfElectrodes = \n",
        "\n",
        "\n",
        "def generateSurfaceElectrodes(resipy_project, electrode_spacing, number_of_electrodes):\n",
        "  elecDF = pd.DataFrame()\n",
        "\n",
        "  elec = np.zeros((number_of_electrodes,3))\n",
        "\n",
        "  elec[:,0] = np.arange(0, number_of_electrodes*electrode_spacing, electrode_spacing)\n",
        "\n",
        "  elecDF = pd.DataFrame(elec)\n",
        "  elecDF.columns = ['x','y','z']\n",
        "  elecDF['remote'] = False\n",
        "  elecDF['buried'] = False\n",
        "  elecDF['label'] = elecDF.index.values+1\n",
        "\n",
        "  resipy_project.setElec(elecDF)\n",
        "  \n",
        "  return elecDF\n",
        "  \n",
        "generateSurfaceElectrodes(resipy_project=k, electrode_spacing=electrodeSpacing, number_of_electrodes=numberOfElectrodes)\n",
        "k.elec"
      ]
    },
    {
      "cell_type": "markdown",
      "metadata": {
        "id": "PqXyjQ-ucjGT"
      },
      "source": [
        "# Q1: What is the physical length of the simulated profile in the x-direction that we created above(please include units)?"
      ]
    },
    {
      "cell_type": "markdown",
      "metadata": {},
      "source": [
        "-----"
      ]
    },
    {
      "cell_type": "markdown",
      "metadata": {
        "id": "YiVIr-Jj-sej"
      },
      "source": [
        "## Input Background Resistivity Value of Subsurface"
      ]
    },
    {
      "cell_type": "markdown",
      "metadata": {
        "id": "oOkIl6GLYew-"
      },
      "source": [
        "Run the cell below and follow the prompts to create a mesh with a background resistivity of 110 ohm-m"
      ]
    },
    {
      "cell_type": "code",
      "execution_count": null,
      "metadata": {
        "colab": {
          "base_uri": "https://localhost:8080/",
          "height": 432
        },
        "id": "xfzooME0yiq5",
        "outputId": "f492b973-5d46-4932-cde7-65f273b98f58"
      },
      "outputs": [],
      "source": [
        "backgroundResistivity = \n",
        "\n",
        "k.createMesh(typ='trian', cl_factor = 10, res0=backgroundResistivity) # let's create the mesh based on these electrodes position\n",
        "k.showMesh()"
      ]
    },
    {
      "cell_type": "markdown",
      "metadata": {},
      "source": [
        "Typical resistivities of geologic materials\n",
        "\n",
        "<img src=\"./resistivity-graph.jpg\" alt=\"Typical Resistivities of Geologic Materials\" />"
      ]
    },
    {
      "cell_type": "markdown",
      "metadata": {
        "id": "JLSpHYzTcc_U"
      },
      "source": [
        "# Q2: Given the background resistivity value you entered and the provided chart, would you expect the subsurface here to be clayey sediment or sandy sediment?"
      ]
    },
    {
      "cell_type": "markdown",
      "metadata": {},
      "source": [
        "> Note: Use the chart above for your answer to Q2, but note that these values will vary between regions"
      ]
    },
    {
      "cell_type": "markdown",
      "metadata": {},
      "source": [
        "---"
      ]
    },
    {
      "cell_type": "markdown",
      "metadata": {
        "id": "6FON4qs_-46f"
      },
      "source": [
        "## Input Geometry of Subsurface Target or Layer"
      ]
    },
    {
      "cell_type": "markdown",
      "metadata": {
        "id": "sl8d-sn9XngR"
      },
      "source": [
        "Run the cells below and follow the prompts to create an object with the following characteristics:\n",
        "\n",
        "\n",
        "* The top of the object is 5 meters below the surface\n",
        "* The bottom of the object is 15 meters below the surface\n",
        "* Object goes from 60 to 70 meters x-distance\n",
        "* Resistivity of object is 5 ohm-m\n",
        "\n",
        "This step addes to the current mesh in your project, so you may need to run the cell(s) above to reset your mesh if you only want a single region."
      ]
    },
    {
      "cell_type": "code",
      "execution_count": null,
      "metadata": {
        "colab": {
          "base_uri": "https://localhost:8080/",
          "height": 456
        },
        "id": "gquMEu3Cyu02",
        "outputId": "cfcd20a2-2dda-4f1c-bca1-528d12f2b157"
      },
      "outputs": [],
      "source": [
        "# Depths should be negative numbers\n",
        "topDepthofObject = \n",
        "bottomDepthofObject = \n",
        "\n",
        "# Locations in meters (positive values)\n",
        "leftSideOfObject = \n",
        "rightSideofObject = \n",
        "\n",
        "targetResistivity = \n",
        "\n",
        "k.addRegion(np.array([[leftSideOfObject,topDepthofObject],[rightSideofObject,topDepthofObject],[rightSideofObject,bottomDepthofObject],[leftSideOfObject,bottomDepthofObject],[leftSideOfObject,topDepthofObject]]), targetResistivity)\n",
        "k.showMesh()"
      ]
    },
    {
      "cell_type": "markdown",
      "metadata": {
        "id": "lvwDzl6ZZnQy"
      },
      "source": [
        "## Choose the type of ERT array we will simulate and the expected errors"
      ]
    },
    {
      "cell_type": "markdown",
      "metadata": {
        "id": "zVYqASi6Zqt4"
      },
      "source": [
        "Run the cell below and follow the prompts to input a measurement error of 10% and set the ERTArray variable equal to 'schlum2' (a type of Schlumberger array).\n",
        "\n",
        "The available arrays are:\n",
        "| \"Friendly\" Name | Name in Resipy|\n",
        "|-----------------|---------------|\n",
        "| 'Dipole-Dipole1'| 'dpdp1'     |\n",
        "| 'Dipole-Dipole2'| 'dpdp2'     |\n",
        "| 'Wenner (alpha)'|'wenner_alpha'|\n",
        "| 'Wenner (beta)' |'wenner_beta'|\n",
        "| 'Wenner (gamma)'|'wenner_gamma'|\n",
        "|'Schlumberger 1' |'schlum1'|\n",
        "|'Schlumberger2'  |'schlum2'|\n",
        "|'Multi-Gradient' |'multigrad'|\n",
        "|'Custom Sequence'|'custSeq'|\n"
      ]
    },
    {
      "cell_type": "code",
      "execution_count": null,
      "metadata": {
        "colab": {
          "base_uri": "https://localhost:8080/",
          "height": 84,
          "referenced_widgets": [
            "9eae707218834d84a38eb0e1041aefdf",
            "9c2e800ffb6c4d6095e2c94b8b673d74",
            "c889811daf8148b488e6f0ad5b250bbb"
          ]
        },
        "id": "lrvrJLq-7UYs",
        "outputId": "215b2ae4-34e8-4b19-c19b-8d0a2d38c31b"
      },
      "outputs": [],
      "source": [
        "#Percentage, between 0 and 1\n",
        "measrument_error_pct =\n",
        "\n",
        "# ERT array, as string recognized by resipy\n",
        "ERTArray ="
      ]
    },
    {
      "cell_type": "markdown",
      "metadata": {
        "id": "3Ze5H8SfagDN"
      },
      "source": [
        "Run the cell below and set the dataLevels variable equal to ***50***"
      ]
    },
    {
      "cell_type": "code",
      "execution_count": null,
      "metadata": {
        "colab": {
          "base_uri": "https://localhost:8080/"
        },
        "id": "craVYY6sy7oi",
        "outputId": "9a3bb83d-0ab0-44c8-9fe9-26a562ba358c"
      },
      "outputs": [],
      "source": [
        "dataLevels = \n",
        "\n",
        "generateSurfaceElectrodes(k, electrodeSpacing, numberOfElectrodes)\n",
        "k.createMesh(typ='trian', cl_factor = 10, res0=backgroundResistivity) # let's create the mesh based on these electrodes position\n",
        "k.addRegion(np.array([[leftSideOfObject,topDepthofObject],[rightSideofObject,topDepthofObject],[rightSideofObject,bottomDepthofObject],[leftSideOfObject,bottomDepthofObject],[leftSideOfObject,topDepthofObject]]), targetResistivity)\n",
        "\n",
        "if ERTArray in ['dpdp1', 'dpdp2', 'schlum1','schlum2']:\n",
        "  k.createSequence([(ERTArray, 1, dataLevels)])\n",
        "else:\n",
        "  wennerList = []\n",
        "  for w in range(1,dataLevels):\n",
        "    wennerList.append((ERTArray,w))\n",
        "  k.createSequence(wennerList)"
      ]
    },
    {
      "cell_type": "code",
      "execution_count": null,
      "metadata": {
        "colab": {
          "base_uri": "https://localhost:8080/",
          "height": 710
        },
        "id": "qNMrOFHHjjoS",
        "outputId": "6b7f34db-e5d1-437f-c104-334b3c1db0fb"
      },
      "outputs": [],
      "source": [
        "k.forward(noise=measrument_error_pct, iplot=True) "
      ]
    },
    {
      "cell_type": "markdown",
      "metadata": {
        "id": "VXXVj-KRcY9n"
      },
      "source": [
        "# Q3: Include a copy of this initial apparent resistivity pseudosection plot. (This should look like a plot with colored points)"
      ]
    },
    {
      "cell_type": "markdown",
      "metadata": {},
      "source": [
        "---"
      ]
    },
    {
      "cell_type": "markdown",
      "metadata": {
        "id": "dB6_CpmZb-ET"
      },
      "source": [
        "## Run an inversion on the pseudosection generated from our forward model"
      ]
    },
    {
      "cell_type": "code",
      "execution_count": null,
      "metadata": {
        "colab": {
          "base_uri": "https://localhost:8080/"
        },
        "id": "D8x_bjidEV8D",
        "outputId": "dff3aac5-04a8-447a-86ab-5c24b246c024"
      },
      "outputs": [],
      "source": [
        "k.invert()"
      ]
    },
    {
      "cell_type": "markdown",
      "metadata": {
        "id": "qDWVs4zXcQf5"
      },
      "source": [
        "# Q4: After running your initial inversion, what is the final RMS misfit (the last value in the output table)? Since the data we read in for the inversion was derived from a forward model, would you expect the value to be zero? Explain why or why not."
      ]
    },
    {
      "cell_type": "markdown",
      "metadata": {},
      "source": [
        "---"
      ]
    },
    {
      "cell_type": "markdown",
      "metadata": {
        "id": "t3LUG2AJli_y"
      },
      "source": [
        "## Modeling results"
      ]
    },
    {
      "cell_type": "markdown",
      "metadata": {
        "id": "mkf5wISAK_5V"
      },
      "source": [
        "This first chart shows the original model we created, color-coded now by resistivity"
      ]
    },
    {
      "cell_type": "code",
      "execution_count": null,
      "metadata": {
        "colab": {
          "base_uri": "https://localhost:8080/",
          "height": 366
        },
        "id": "Ee-izAnYIdXM",
        "outputId": "355e5293-4ec5-4e2d-e329-0324eef94097"
      },
      "outputs": [],
      "source": [
        "k.showResults(index=0, attr='Resistivity(ohm.m)', color_map='cividis', sens=False, contour=False, clipCorners=False)"
      ]
    },
    {
      "cell_type": "markdown",
      "metadata": {
        "id": "MxXhafiWLJ8q"
      },
      "source": [
        "This second chart shows the results of our inversion on the pseudosection calculated using our forward model. "
      ]
    },
    {
      "cell_type": "code",
      "execution_count": null,
      "metadata": {
        "colab": {
          "base_uri": "https://localhost:8080/",
          "height": 366
        },
        "id": "B6jfllqnRNvw",
        "outputId": "6ca2f88c-44fb-4f1d-bf7b-4c8f1fc7d487"
      },
      "outputs": [],
      "source": [
        "k.showResults(index=1, attr='Resistivity(ohm.m)', color_map='cividis', sens=False, contour=True, clipCorners=False)"
      ]
    },
    {
      "cell_type": "markdown",
      "metadata": {
        "id": "n74KtrOUlWYS"
      },
      "source": [
        "# Q5: Include a copy of the two plots from the Modeling Results section. How do they compare and what might explain any differences?"
      ]
    },
    {
      "cell_type": "markdown",
      "metadata": {},
      "source": [
        "---"
      ]
    },
    {
      "cell_type": "markdown",
      "metadata": {
        "id": "Gohh6zb0nSq6"
      },
      "source": [
        "## Change array"
      ]
    },
    {
      "cell_type": "markdown",
      "metadata": {
        "id": "kstyH8MdnVNz"
      },
      "source": [
        "Now, let's see if our model changes at all if we use a different array. \n",
        "\n",
        "Set ERTArray equal to 'dpdp2' (i.e., Dipole-Dipole2 array)\n",
        "\n",
        "The available arrays are:\n",
        "| \"Friendly\" Name | Name in Resipy|\n",
        "|-----------------|---------------|\n",
        "| 'Dipole-Dipole1'| 'dpdp1'     |\n",
        "| 'Dipole-Dipole2'| 'dpdp2'     |\n",
        "| 'Wenner (alpha)'|'wenner_alpha'|\n",
        "| 'Wenner (beta)' |'wenner_beta'|\n",
        "| 'Wenner (gamma)'|'wenner_gamma'|\n",
        "|'Schlumberger 1' |'schlum1'|\n",
        "|'Schlumberger2'  |'schlum2'|\n",
        "|'Multi-Gradient' |'multigrad'|\n",
        "|'Custom Sequence'|'custSeq'|\n",
        "\n",
        "\n",
        "> Note that we are not changing any other parameters aside from the array type."
      ]
    },
    {
      "cell_type": "code",
      "execution_count": null,
      "metadata": {
        "colab": {
          "base_uri": "https://localhost:8080/",
          "height": 66,
          "referenced_widgets": [
            "ec5c7422bce44f8484e4f99143098024",
            "a315ea1f2be14cafbde22ef44ea3d687",
            "19a1b46828c6442aaa62d2f04f1ecb8d"
          ]
        },
        "id": "riyBe5oYm6hK",
        "outputId": "9b4b3e7b-345f-482c-8e00-020324e1b5d9"
      },
      "outputs": [],
      "source": [
        "ERTArray ="
      ]
    },
    {
      "cell_type": "markdown",
      "metadata": {
        "id": "DfDdazTrn2i3"
      },
      "source": [
        "Now, use the cell below to run a forward model and plot the pseudosection"
      ]
    },
    {
      "cell_type": "code",
      "execution_count": null,
      "metadata": {
        "colab": {
          "base_uri": "https://localhost:8080/",
          "height": 747
        },
        "id": "PZUg-3npm_Yh",
        "outputId": "9957c644-c161-4ce7-976c-7029c4e24de7"
      },
      "outputs": [],
      "source": [
        "generateSurfaceElectrodes(k, electrodeSpacing, numberOfElectrodes)\n",
        "k.createMesh(typ='trian', cl_factor=10, res0=backgroundResistivity) # let's create the mesh based on these electrodes position\n",
        "k.addRegion(np.array([[leftSideOfObject,topDepthofObject],[rightSideofObject,topDepthofObject],[rightSideofObject,bottomDepthofObject],[leftSideOfObject,bottomDepthofObject],[leftSideOfObject,topDepthofObject]]), targetResistivity)\n",
        "\n",
        "if ERTArray in ['dpdp1', 'dpdp2', 'schlum1','schlum2']:\n",
        "  k.createSequence([(ERTArray, 1, dataLevels)])\n",
        "else:\n",
        "  wennerList = []\n",
        "  for w in range(1,dataLevels):\n",
        "    wennerList.append((ERTArray,w))\n",
        "  k.createSequence(wennerList)\n",
        "\n",
        "k.forward(iplot=True) "
      ]
    },
    {
      "cell_type": "markdown",
      "metadata": {
        "id": "eo265-tYn6Rz"
      },
      "source": [
        "And run an inversion using the new array."
      ]
    },
    {
      "cell_type": "code",
      "execution_count": null,
      "metadata": {
        "colab": {
          "base_uri": "https://localhost:8080/",
          "height": 1000
        },
        "id": "-2bOZqLcnQDY",
        "outputId": "f467ee9a-d6da-4c2a-b43e-b4313bc71997"
      },
      "outputs": [],
      "source": [
        "k.invert()\n",
        "k.showResults(index=1, attr='Resistivity(ohm.m)', color_map='cividis', sens=False, contour=True, clipCorners=False)"
      ]
    },
    {
      "cell_type": "markdown",
      "metadata": {
        "id": "WgSFnuoIn9x1"
      },
      "source": [
        "# Q6: In 1-4 sentences, comment on the differences and/or similarities between the pseudosections and the inversions between the two model runs we have done now (the first using a Schlumberger array and the second using a dipole-dipole array). \n",
        "\n",
        "Which do you like better? Which has a better misfit between the pseudosection and forward model?"
      ]
    },
    {
      "cell_type": "markdown",
      "metadata": {},
      "source": [
        "> Note that in field situations, often the dipole-dipole array can measure 4-8x as fast as the Schlumberger array. Does this change your answer to Q6?"
      ]
    },
    {
      "cell_type": "markdown",
      "metadata": {},
      "source": [
        "---"
      ]
    },
    {
      "cell_type": "markdown",
      "metadata": {
        "id": "eLqirGmMs_EJ"
      },
      "source": [
        "## Add layer"
      ]
    },
    {
      "cell_type": "markdown",
      "metadata": {
        "id": "mIY749SdtKjH"
      },
      "source": [
        "Now, create a geologic layer with the following parameters:\n",
        "\n",
        "\n",
        "*   Top Depth: -5\n",
        "*   Bottom Depth: -10\n",
        "*   Left: 0\n",
        "*   Right: 75\n",
        "*   Resistivity: 200\n",
        "\n"
      ]
    },
    {
      "cell_type": "code",
      "execution_count": null,
      "metadata": {
        "colab": {
          "base_uri": "https://localhost:8080/",
          "height": 474
        },
        "id": "FDHLgkaNtASb",
        "outputId": "da418daa-a718-4fbb-9975-a07d9799c823"
      },
      "outputs": [],
      "source": [
        "topDepthofObject =\n",
        "bottomDepthofObject =\n",
        "leftSideOfObject =\n",
        "rightSideofObject =\n",
        "targetResistivity =\n",
        "\n",
        "generateSurfaceElectrodes(k, electrodeSpacing,numberOfElectrodes)\n",
        "k.createMesh(typ='trian', cl_factor=10, res0=backgroundResistivity) # let's create the mesh based on these electrodes position\n",
        "k.addRegion(np.array([[leftSideOfObject,topDepthofObject],[rightSideofObject,topDepthofObject],[rightSideofObject,bottomDepthofObject],[leftSideOfObject,bottomDepthofObject],[leftSideOfObject,topDepthofObject]]), targetResistivity)\n",
        "k.showMesh()"
      ]
    },
    {
      "cell_type": "code",
      "execution_count": null,
      "metadata": {
        "colab": {
          "base_uri": "https://localhost:8080/",
          "height": 711
        },
        "id": "Nf4I2H3rtZBr",
        "outputId": "25eb4820-f282-481a-c3b1-1e26417a0c28"
      },
      "outputs": [],
      "source": [
        "k.forward(noise=measrument_error_pct,iplot=True) "
      ]
    },
    {
      "cell_type": "code",
      "execution_count": null,
      "metadata": {
        "colab": {
          "base_uri": "https://localhost:8080/",
          "height": 1000
        },
        "id": "NKretJjhtmFa",
        "outputId": "90c9477c-c061-42f3-abaa-0f1934d71662"
      },
      "outputs": [],
      "source": [
        "k.invert()\n",
        "k.showResults(index=1, attr='Resistivity(ohm.m)', color_map='cividis', sens=False, contour=True, clipCorners=True)"
      ]
    },
    {
      "cell_type": "markdown",
      "metadata": {
        "id": "UPU2nHrtC9L7"
      },
      "source": [
        "# Q7:  The forward model and inversion above represent a layered subsurface. Describe the following:\n",
        "a) What your forward model and inversion outputs represent\n",
        "\n",
        "b) How your inversion output compares to the geological model we constructed\n",
        "* We constructed a geologic model when we specified the top/bottom/left/right of our subsurface target\n",
        "\n",
        "c) How this compares with the first model we processed.\n",
        "\n",
        "\n",
        "> Note that using the default inversion parameters as we did in this section of the exercise may not yield highly targeted results for this or other ERT data (also, using a more sophisticated software like Res2DInv might yield better inversions)."
      ]
    },
    {
      "cell_type": "markdown",
      "metadata": {},
      "source": [
        "---"
      ]
    },
    {
      "cell_type": "markdown",
      "metadata": {
        "id": "xOrvfE6CL9BW"
      },
      "source": [
        "## Add downhole electrodes"
      ]
    },
    {
      "cell_type": "markdown",
      "metadata": {
        "id": "1_0F-XjhWZsY"
      },
      "source": [
        "First, let's regenerate our dataframe with the surface electrodes"
      ]
    },
    {
      "cell_type": "code",
      "execution_count": null,
      "metadata": {
        "colab": {
          "base_uri": "https://localhost:8080/",
          "height": 424
        },
        "id": "H3RfAHNbL70R",
        "outputId": "578753ae-9e64-4368-f5b2-71c975753d30"
      },
      "outputs": [],
      "source": [
        "generateSurfaceElectrodes(k, electrodeSpacing, numberOfElectrodes)\n",
        "k.elec"
      ]
    },
    {
      "cell_type": "markdown",
      "metadata": {
        "id": "N13fRcR4WdP5"
      },
      "source": [
        "Now, let's add our downhole electrodes (these are electrodes that would be put in a screened, pvc well)"
      ]
    },
    {
      "cell_type": "code",
      "execution_count": null,
      "metadata": {
        "colab": {
          "base_uri": "https://localhost:8080/",
          "height": 424
        },
        "id": "h_1kT7u1MFYR",
        "outputId": "f2c4d0cf-e86e-4f44-cf17-e75fc7b06e53"
      },
      "outputs": [],
      "source": [
        "generateSurfaceElectrodes(k, electrodeSpacing, numberOfElectrodes) #Just in case, to make sure we are starting with the rightSideofObject electrodes\n",
        "\n",
        "newElecDF = k.elec.copy()\n",
        "\n",
        "for x in [41, 63]:\n",
        "  depth = -4 # We do not start at 0, since downhole electrodes need to be in water\n",
        "  for i in range(64, 96):\n",
        "    itemList = []\n",
        "    itemList.append(x) #X-location of downhole electrode\n",
        "    itemList.append(0.0) #Y location\n",
        "    itemList.append(depth) #z location/Depth of downhole electrode\n",
        "    itemList.append(False) # Not a remote electrode (used only in pole arrays)\n",
        "    itemList.append(True) # It is a a buried electrode\n",
        "    itemList.append(i+1) #Add electrodeLabel\n",
        "    itemDF = pd.DataFrame(itemList).transpose() #Turn list into dataframe for appending\n",
        "    depth -= 1.5 # Increment the depth so next electrode is 5 meters deeper\n",
        "    itemDF.columns=['x','y','z','remote','buried','label'] # add column names\n",
        "    itemDF.index=[i] #add index value\n",
        "    \n",
        "    if i < 80:\n",
        "      newElecDF = pd.concat([newElecDF, itemDF]) # Add downhole electrodes to existing electrode dataframe\n",
        "\n",
        "k.setElec(newElecDF) #Set new electrode layout using new dataframe\n",
        "k.elec"
      ]
    },
    {
      "cell_type": "code",
      "execution_count": null,
      "metadata": {
        "colab": {
          "base_uri": "https://localhost:8080/",
          "height": 488
        },
        "id": "_qV38DROQXsH",
        "outputId": "cfbe5f2e-7133-4689-e566-871ed1fc6435"
      },
      "outputs": [],
      "source": [
        "k.createMesh(typ='trian', cl=5, res0=backgroundResistivity) # let's create the mesh based on these electrodes position\n",
        "k.addRegion(np.array([[leftSideOfObject,topDepthofObject],[rightSideofObject,topDepthofObject],[rightSideofObject,bottomDepthofObject],[leftSideOfObject,bottomDepthofObject],[leftSideOfObject,topDepthofObject]]), targetResistivity)\n",
        "k.showMesh()"
      ]
    },
    {
      "cell_type": "code",
      "execution_count": null,
      "metadata": {
        "colab": {
          "base_uri": "https://localhost:8080/",
          "height": 711
        },
        "id": "0nv_QwnIRHf6",
        "outputId": "792ef833-fa51-4138-9428-ed6880545514"
      },
      "outputs": [],
      "source": [
        "k.forward(noise=measrument_error_pct, iplot=True)"
      ]
    },
    {
      "cell_type": "code",
      "execution_count": null,
      "metadata": {
        "colab": {
          "base_uri": "https://localhost:8080/",
          "height": 1000
        },
        "id": "VWF0hX0oQaOM",
        "outputId": "e2a3e467-52d8-4a74-b92c-534964779dda"
      },
      "outputs": [],
      "source": [
        "k.invert()\n",
        "k.showResults(index=1, attr='Resistivity(ohm.m)', color_map='cividis', sens=False, contour=True, clipCorners=True, zlim=[-25, 0])"
      ]
    },
    {
      "cell_type": "markdown",
      "metadata": {},
      "source": [
        "# Q8: Describe any differences between the inverted layered model before and after we added downhole electrodes.  Include the plot from the final code cell."
      ]
    },
    {
      "cell_type": "markdown",
      "metadata": {},
      "source": [
        "# Q9: What is the biggest insight you took away from this exercise?"
      ]
    }
  ],
  "metadata": {
    "colab": {
      "collapsed_sections": [],
      "provenance": []
    },
    "kernelspec": {
      "display_name": "Python 3",
      "language": "python",
      "name": "python3"
    },
    "language_info": {
      "codemirror_mode": {
        "name": "ipython",
        "version": 3
      },
      "file_extension": ".py",
      "mimetype": "text/x-python",
      "name": "python",
      "nbconvert_exporter": "python",
      "pygments_lexer": "ipython3",
      "version": "3.12.1"
    },
    "widgets": {
      "application/vnd.jupyter.widget-state+json": {
        "19a1b46828c6442aaa62d2f04f1ecb8d": {
          "model_module": "@jupyter-widgets/controls",
          "model_module_version": "1.5.0",
          "model_name": "DescriptionStyleModel",
          "state": {
            "_model_module": "@jupyter-widgets/controls",
            "_model_module_version": "1.5.0",
            "_model_name": "DescriptionStyleModel",
            "_view_count": null,
            "_view_module": "@jupyter-widgets/base",
            "_view_module_version": "1.2.0",
            "_view_name": "StyleView",
            "description_width": ""
          }
        },
        "9c2e800ffb6c4d6095e2c94b8b673d74": {
          "model_module": "@jupyter-widgets/base",
          "model_module_version": "1.2.0",
          "model_name": "LayoutModel",
          "state": {
            "_model_module": "@jupyter-widgets/base",
            "_model_module_version": "1.2.0",
            "_model_name": "LayoutModel",
            "_view_count": null,
            "_view_module": "@jupyter-widgets/base",
            "_view_module_version": "1.2.0",
            "_view_name": "LayoutView",
            "align_content": null,
            "align_items": null,
            "align_self": null,
            "border": null,
            "bottom": null,
            "display": null,
            "flex": null,
            "flex_flow": null,
            "grid_area": null,
            "grid_auto_columns": null,
            "grid_auto_flow": null,
            "grid_auto_rows": null,
            "grid_column": null,
            "grid_gap": null,
            "grid_row": null,
            "grid_template_areas": null,
            "grid_template_columns": null,
            "grid_template_rows": null,
            "height": null,
            "justify_content": null,
            "justify_items": null,
            "left": null,
            "margin": null,
            "max_height": null,
            "max_width": null,
            "min_height": null,
            "min_width": null,
            "object_fit": null,
            "object_position": null,
            "order": null,
            "overflow": null,
            "overflow_x": null,
            "overflow_y": null,
            "padding": null,
            "right": null,
            "top": null,
            "visibility": null,
            "width": null
          }
        },
        "9eae707218834d84a38eb0e1041aefdf": {
          "model_module": "@jupyter-widgets/controls",
          "model_module_version": "1.5.0",
          "model_name": "DropdownModel",
          "state": {
            "_dom_classes": [],
            "_model_module": "@jupyter-widgets/controls",
            "_model_module_version": "1.5.0",
            "_model_name": "DropdownModel",
            "_options_labels": [
              "Dipole-Dipole1",
              "Dipole-Dipole2",
              "Wenner (alpha)",
              "Wenner (beta)",
              "Wenner (gamma)",
              "Schlumberger 1",
              "Schlumberger2",
              "Multi-Gradient"
            ],
            "_view_count": null,
            "_view_module": "@jupyter-widgets/controls",
            "_view_module_version": "1.5.0",
            "_view_name": "DropdownView",
            "description": "Array",
            "description_tooltip": null,
            "disabled": false,
            "index": 6,
            "layout": "IPY_MODEL_9c2e800ffb6c4d6095e2c94b8b673d74",
            "style": "IPY_MODEL_c889811daf8148b488e6f0ad5b250bbb"
          }
        },
        "a315ea1f2be14cafbde22ef44ea3d687": {
          "model_module": "@jupyter-widgets/base",
          "model_module_version": "1.2.0",
          "model_name": "LayoutModel",
          "state": {
            "_model_module": "@jupyter-widgets/base",
            "_model_module_version": "1.2.0",
            "_model_name": "LayoutModel",
            "_view_count": null,
            "_view_module": "@jupyter-widgets/base",
            "_view_module_version": "1.2.0",
            "_view_name": "LayoutView",
            "align_content": null,
            "align_items": null,
            "align_self": null,
            "border": null,
            "bottom": null,
            "display": null,
            "flex": null,
            "flex_flow": null,
            "grid_area": null,
            "grid_auto_columns": null,
            "grid_auto_flow": null,
            "grid_auto_rows": null,
            "grid_column": null,
            "grid_gap": null,
            "grid_row": null,
            "grid_template_areas": null,
            "grid_template_columns": null,
            "grid_template_rows": null,
            "height": null,
            "justify_content": null,
            "justify_items": null,
            "left": null,
            "margin": null,
            "max_height": null,
            "max_width": null,
            "min_height": null,
            "min_width": null,
            "object_fit": null,
            "object_position": null,
            "order": null,
            "overflow": null,
            "overflow_x": null,
            "overflow_y": null,
            "padding": null,
            "right": null,
            "top": null,
            "visibility": null,
            "width": null
          }
        },
        "c889811daf8148b488e6f0ad5b250bbb": {
          "model_module": "@jupyter-widgets/controls",
          "model_module_version": "1.5.0",
          "model_name": "DescriptionStyleModel",
          "state": {
            "_model_module": "@jupyter-widgets/controls",
            "_model_module_version": "1.5.0",
            "_model_name": "DescriptionStyleModel",
            "_view_count": null,
            "_view_module": "@jupyter-widgets/base",
            "_view_module_version": "1.2.0",
            "_view_name": "StyleView",
            "description_width": ""
          }
        },
        "ec5c7422bce44f8484e4f99143098024": {
          "model_module": "@jupyter-widgets/controls",
          "model_module_version": "1.5.0",
          "model_name": "DropdownModel",
          "state": {
            "_dom_classes": [],
            "_model_module": "@jupyter-widgets/controls",
            "_model_module_version": "1.5.0",
            "_model_name": "DropdownModel",
            "_options_labels": [
              "Dipole-Dipole1",
              "Dipole-Dipole2",
              "Wenner (alpha)",
              "Wenner (beta)",
              "Wenner (gamma)",
              "Schlumberger 1",
              "Schlumberger2",
              "Multi-Gradient"
            ],
            "_view_count": null,
            "_view_module": "@jupyter-widgets/controls",
            "_view_module_version": "1.5.0",
            "_view_name": "DropdownView",
            "description": "Array",
            "description_tooltip": null,
            "disabled": false,
            "index": 1,
            "layout": "IPY_MODEL_a315ea1f2be14cafbde22ef44ea3d687",
            "style": "IPY_MODEL_19a1b46828c6442aaa62d2f04f1ecb8d"
          }
        }
      }
    }
  },
  "nbformat": 4,
  "nbformat_minor": 0
}

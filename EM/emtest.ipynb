{
 "cells": [
  {
   "cell_type": "markdown",
   "metadata": {},
   "source": [
    "# Inversion Steps:\n",
    "1. Setup\n",
    "    * Import modules\n",
    "    * Download/format data\n",
    "        * Data\n",
    "        * Times for data\n",
    "    * Load data into variables\n",
    "2. Specify source/receiver parameters\n",
    "    * Location (source/receiver)\n",
    "    * Orientation (source/receiver)\n",
    "    * Peak current amplitude (source)\n",
    "    * Radius (source)\n",
    "    * Phenomenon to measure (receiver)\n",
    "3. Create Model Cells/mesh (1D)\n",
    "    * Since this is a 1D model, it is really just depths/thicknesses of the \"layers\" or \"cells\" we will be using\n",
    "4. Define a starting model (0.1 Ohm meters (or S/m?))\n",
    "    * Make mesh be natural log values (since large differences in potential values)\n",
    "5. Generate 1D Simulation of data based on survey parameters\n",
    "6. Set up inversion parameters\n",
    "    * Weight our data (to help calculate least-squares misfit)\n",
    "    * Define regularization/model objective function\n",
    "    * Create a reference model\n",
    "    * Define sparse and blocky norms\n",
    "    * Define how optimization is solved (Gauss-Newton with conjugate gradient solver)\n",
    "    * Define the inverse problem"
   ]
  },
  {
   "cell_type": "markdown",
   "metadata": {},
   "source": [
    "# Import modules"
   ]
  },
  {
   "cell_type": "code",
   "execution_count": null,
   "metadata": {},
   "outputs": [],
   "source": [
    "import os\n",
    "import tarfile\n",
    "import numpy as np\n",
    "import matplotlib.pyplot as plt\n",
    "\n",
    "from discretize import TensorMesh\n",
    "\n",
    "import simpeg.electromagnetics.time_domain as tdem\n",
    "\n",
    "from simpeg.utils import mkvc, plot_1d_layer_model\n",
    "from simpeg import (\n",
    "    maps,\n",
    "    data,\n",
    "    data_misfit,\n",
    "    inverse_problem,\n",
    "    regularization,\n",
    "    optimization,\n",
    "    directives,\n",
    "    inversion,\n",
    "    utils,\n",
    ")\n",
    "\n",
    "plt.rcParams.update({\"font.size\": 16, \"lines.linewidth\": 2, \"lines.markersize\": 8})\n"
   ]
  },
  {
   "cell_type": "markdown",
   "metadata": {},
   "source": [
    "# Download and format data"
   ]
  },
  {
   "cell_type": "code",
   "execution_count": null,
   "metadata": {},
   "outputs": [],
   "source": [
    "import pathlib\n",
    "emDataDir = pathlib.Path(\"./EMSampleData\").absolute()\n",
    "data_filename = emDataDir.joinpath(\"em1dtm_data.txt\")\n",
    "print(data_filename)"
   ]
  },
  {
   "cell_type": "markdown",
   "metadata": {},
   "source": [
    "# Load data"
   ]
  },
  {
   "cell_type": "code",
   "execution_count": null,
   "metadata": {},
   "outputs": [],
   "source": [
    "# Load field data\n",
    "dobsIN = np.loadtxt(str(data_filename), skiprows=1)\n",
    "dobsIN"
   ]
  },
  {
   "cell_type": "code",
   "execution_count": null,
   "metadata": {},
   "outputs": [],
   "source": [
    "# Break down data into two variables: time and data\n",
    "times = dobsIN[:, 0]\n",
    "dobs = mkvc(dobsIN[:, -1])\n",
    "\n",
    "fig = plt.figure(figsize=(7, 7))\n",
    "ax = fig.add_axes([0.15, 0.15, 0.8, 0.75])\n",
    "ax.loglog(times, np.abs(dobs), \"k-o\", lw=3)\n",
    "ax.set_xlabel(\"Times (s)\")\n",
    "ax.set_ylabel(\"|B| (T)\")\n",
    "ax.set_title(\"Observed Data\")"
   ]
  },
  {
   "cell_type": "markdown",
   "metadata": {},
   "source": [
    "# Create Digital Equipment/Source model"
   ]
  },
  {
   "cell_type": "code",
   "execution_count": null,
   "metadata": {},
   "outputs": [],
   "source": [
    "# Source loop geometry\n",
    "source_location = np.array([0.0, 0.0, 20.0])\n",
    "source_orientation = \"z\"  # \"x\", \"y\" or \"z\"\n",
    "source_current = 1.0  # peak current amplitude\n",
    "source_radius = 6.0  # loop radius\n",
    "\n",
    "# Receiver geometry\n",
    "receiver_location = np.array([0.0, 0.0, 20.0])\n",
    "receiver_orientation = \"z\"  # \"x\", \"y\" or \"z\"\n",
    "\n",
    "# Receiver list\n",
    "receiver_list = []\n",
    "receiver_list.append(\n",
    "    tdem.receivers.PointMagneticFluxDensity(\n",
    "        receiver_location, times, orientation=receiver_orientation\n",
    "    )\n",
    ")\n",
    "\n",
    "# Define the source waveform.\n",
    "#https://docs.simpeg.xyz/latest/content/api/generated/simpeg.electromagnetics.time_domain.sources.StepOffWaveform.html#simpeg.electromagnetics.time_domain.sources.StepOffWaveform\n",
    "waveform = tdem.sources.StepOffWaveform()\n",
    "\n",
    "# Sources\n",
    "#https://docs.simpeg.xyz/latest/content/api/generated/simpeg.electromagnetics.time_domain.sources.CircularLoop.html#simpeg.electromagnetics.time_domain.sources.CircularLoop\n",
    "source_list = [\n",
    "    tdem.sources.CircularLoop(\n",
    "        receiver_list=receiver_list,\n",
    "        location=source_location,\n",
    "        waveform=waveform,\n",
    "        current=source_current,\n",
    "        radius=source_radius,\n",
    "    )\n",
    "]\n",
    "\n",
    "# Survey\n",
    "survey = tdem.Survey(source_list)"
   ]
  },
  {
   "cell_type": "code",
   "execution_count": null,
   "metadata": {},
   "outputs": [],
   "source": [
    "# 5% of the absolute value\n",
    "uncertainties = 0.05 * np.abs(dobs) * np.ones(np.shape(dobs))\n",
    "\n",
    "# Define the data object\n",
    "data_object = data.Data(survey, dobs=dobs, standard_deviation=uncertainties)"
   ]
  },
  {
   "cell_type": "markdown",
   "metadata": {},
   "source": [
    "# Create Inversion Mesh"
   ]
  },
  {
   "cell_type": "code",
   "execution_count": null,
   "metadata": {},
   "outputs": [],
   "source": [
    "# Layer thicknesses\n",
    "inv_thicknesses = np.logspace(0, 1.5, 25)\n",
    "print((np.r_[inv_thicknesses, inv_thicknesses[-1]]))\n",
    "# Define a mesh for plotting and regularization.\n",
    "#https://discretize.simpeg.xyz/en/latest/api/generated/discretize.TensorMesh.html\n",
    "mesh = TensorMesh([(np.r_[inv_thicknesses, inv_thicknesses[-1]])], \"0\")\n",
    "print(mesh)"
   ]
  },
  {
   "cell_type": "markdown",
   "metadata": {},
   "source": [
    "# Define model"
   ]
  },
  {
   "cell_type": "code",
   "execution_count": null,
   "metadata": {},
   "outputs": [],
   "source": [
    "# Define model. A resistivity (Ohm meters) or conductivity (S/m) for each layer.\n",
    "starting_model = np.log(0.1 * np.ones(mesh.nC))\n",
    "\n",
    "# Define mapping from model to active cells.\n",
    "model_mapping = maps.ExpMap()"
   ]
  },
  {
   "cell_type": "markdown",
   "metadata": {},
   "source": [
    "# Create forward model (i.e., simulation)"
   ]
  },
  {
   "cell_type": "code",
   "execution_count": null,
   "metadata": {},
   "outputs": [],
   "source": [
    "#https://docs.simpeg.xyz/latest/content/api/generated/simpeg.electromagnetics.time_domain.Simulation1DLayered.html#simpeg.electromagnetics.time_domain.Simulation1DLayered\n",
    "simulation = tdem.Simulation1DLayered(\n",
    "    survey=survey, thicknesses=inv_thicknesses, sigmaMap=model_mapping\n",
    ")"
   ]
  },
  {
   "cell_type": "markdown",
   "metadata": {},
   "source": [
    "# Set up model parameters"
   ]
  },
  {
   "cell_type": "code",
   "execution_count": null,
   "metadata": {},
   "outputs": [],
   "source": [
    "# Define the data misfit. Here the data misfit is the L2 norm of the weighted\n",
    "# residual between the observed data and the data predicted for a given model.\n",
    "# The weighting is defined by the reciprocal of the uncertainties.\n",
    "dmis = data_misfit.L2DataMisfit(simulation=simulation, data=data_object)\n",
    "dmis.W = 1.0 / uncertainties\n",
    "\n",
    "# Define the regularization (model objective function)\n",
    "reg_map = maps.IdentityMap(nP=mesh.nC)\n",
    "reg = regularization.Sparse(mesh, mapping=reg_map, alpha_s=0.01, alpha_x=1.0)\n",
    "\n",
    "# set reference model\n",
    "reg.reference_model = starting_model\n",
    "\n",
    "# Define sparse and blocky norms p, q\n",
    "reg.norms = [1, 0]\n",
    "\n",
    "# Define how the optimization problem is solved. Here we will use an inexact\n",
    "# Gauss-Newton approach that employs the conjugate gradient solver.\n",
    "opt = optimization.ProjectedGNCG(maxIter=100, maxIterLS=20, maxIterCG=30, tolCG=1e-3)\n",
    "\n",
    "# Define the inverse problem\n",
    "inv_prob = inverse_problem.BaseInvProblem(dmis, reg, opt)"
   ]
  },
  {
   "cell_type": "code",
   "execution_count": null,
   "metadata": {},
   "outputs": [],
   "source": [
    "# Defining a starting value for the trade-off parameter (beta) between the data\n",
    "# misfit and the regularization.\n",
    "starting_beta = directives.BetaEstimate_ByEig(beta0_ratio=1e2)\n",
    "\n",
    "# Update the preconditionner\n",
    "update_Jacobi = directives.UpdatePreconditioner()\n",
    "\n",
    "# Options for outputting recovered models and predicted data for each beta.\n",
    "save_iteration = directives.SaveOutputEveryIteration(save_txt=False)\n",
    "\n",
    "# Directives for the IRLS\n",
    "update_IRLS = directives.UpdateIRLS(max_irls_iterations=30, irls_cooling_factor=1.5)\n",
    "\n",
    "# Updating the preconditionner if it is model dependent.\n",
    "update_jacobi = directives.UpdatePreconditioner()\n",
    "\n",
    "# Add sensitivity weights\n",
    "sensitivity_weights = directives.UpdateSensitivityWeights()\n",
    "\n",
    "# The directives are defined as a list.\n",
    "directives_list = [\n",
    "    sensitivity_weights,\n",
    "    starting_beta,\n",
    "    save_iteration,\n",
    "    update_IRLS,\n",
    "    update_jacobi,\n",
    "]"
   ]
  },
  {
   "cell_type": "code",
   "execution_count": null,
   "metadata": {},
   "outputs": [],
   "source": [
    "# Here we combine the inverse problem and the set of directives\n",
    "inv = inversion.BaseInversion(inv_prob, directives_list)\n",
    "\n",
    "import warnings\n",
    "import simpeg\n",
    "warnings.filterwarnings('ignore', category=simpeg.utils.solver_utils.DefaultSolverWarning)\n",
    "\n",
    "# Run the inversion\n",
    "recovered_model = inv.run(starting_model)"
   ]
  },
  {
   "cell_type": "code",
   "execution_count": null,
   "metadata": {},
   "outputs": [],
   "source": [
    "# Load the true model and layer thicknesses\n",
    "true_model = np.array([0.1, 1.0, 0.1])\n",
    "true_layers = np.r_[40.0, 40.0, 160.0]\n",
    "\n",
    "# Extract Least-Squares model\n",
    "l2_model = inv_prob.l2model\n",
    "print(np.shape(l2_model))\n",
    "\n",
    "# Plot true model and recovered model\n",
    "fig = plt.figure(figsize=(8, 9))\n",
    "x_min = np.min(\n",
    "    np.r_[model_mapping * recovered_model, model_mapping * l2_model, true_model]\n",
    ")\n",
    "x_max = np.max(\n",
    "    np.r_[model_mapping * recovered_model, model_mapping * l2_model, true_model]\n",
    ")\n",
    "\n",
    "ax1 = fig.add_axes([0.2, 0.15, 0.7, 0.7])\n",
    "plot_1d_layer_model(true_layers, true_model, ax=ax1, show_layers=False, color=\"k\")\n",
    "\n",
    "# \"Smooth (L2) model\"\n",
    "plot_1d_layer_model(\n",
    "    mesh.h[0], model_mapping * l2_model, ax=ax1, show_layers=False, color=\"b\"\n",
    ")\n",
    "\n",
    "# \"Blocky\" (L0/L1) model\n",
    "plot_1d_layer_model(\n",
    "    mesh.h[0], model_mapping * recovered_model, ax=ax1, show_layers=False, color=\"r\"\n",
    ")\n",
    "ax1.set_xlim(0.01, 10)\n",
    "ax1.grid()\n",
    "ax1.set_title(\"True and Recovered Models\")\n",
    "ax1.legend([\"True Model\", \"L2-Model\", \"Sparse Model\"])\n",
    "#plt.gca().invert_yaxis()\n",
    "\n",
    "# Plot predicted and observed data\n",
    "dpred_l2 = simulation.dpred(l2_model)\n",
    "dpred_final = simulation.dpred(recovered_model)\n",
    "\n",
    "fig = plt.figure(figsize=(7, 7))\n",
    "ax1 = fig.add_axes([0.15, 0.15, 0.8, 0.75])\n",
    "ax1.loglog(times, np.abs(dobs), \"k-o\")\n",
    "ax1.loglog(times, np.abs(dpred_l2), \"b-o\")\n",
    "ax1.loglog(times, np.abs(dpred_final), \"r-o\")\n",
    "ax1.grid()\n",
    "ax1.set_xlabel(\"times (Hz)\")\n",
    "ax1.set_ylabel(\"|Hs/Hp| (ppm)\")\n",
    "ax1.set_title(\"Predicted and Observed Data\")\n",
    "ax1.legend([\"Observed\", \"L2-Model\", \"Sparse\"], loc=\"upper right\")\n",
    "plt.show()"
   ]
  }
 ],
 "metadata": {
  "kernelspec": {
   "display_name": "em312",
   "language": "python",
   "name": "python3"
  },
  "language_info": {
   "codemirror_mode": {
    "name": "ipython",
    "version": 3
   },
   "file_extension": ".py",
   "mimetype": "text/x-python",
   "name": "python",
   "nbconvert_exporter": "python",
   "pygments_lexer": "ipython3",
   "version": "3.12.3"
  }
 },
 "nbformat": 4,
 "nbformat_minor": 2
}

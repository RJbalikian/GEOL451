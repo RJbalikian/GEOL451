{
 "cells": [
  {
   "cell_type": "markdown",
   "metadata": {},
   "source": [
    "# TEM Data Inversion"
   ]
  },
  {
   "cell_type": "markdown",
   "metadata": {},
   "source": [
    "The inversion steps shown here are fairly complicated and were not covered in the course. \n",
    "\n",
    "You will only be asked to fill some of the characteristics of your survey. Then you will run all the cells in order.\n",
    "\n",
    "If running in codespaces, remember you will need to install the python and jupyter extensions as well as the ipykernel package in python before this notebook can be run."
   ]
  },
  {
   "cell_type": "markdown",
   "metadata": {},
   "source": [
    "# Setup"
   ]
  },
  {
   "cell_type": "markdown",
   "metadata": {},
   "source": [
    "You will need to install simpeg. You can do so in the cell below, or by running the command in your terminal (in a virtual environment or otherwise).\n",
    "\n",
    "Simpeg is a simulation, processing, and parameter estimation library for geophysics. It has a bit of a steep learning curve, which is why you will mostly just be running preconfigured cells in this notebook. More information can be found about simpeg [here](https://simpeg.xyz/)"
   ]
  },
  {
   "cell_type": "code",
   "execution_count": null,
   "metadata": {},
   "outputs": [],
   "source": [
    "!pip install simpeg"
   ]
  },
  {
   "cell_type": "markdown",
   "metadata": {},
   "source": [
    "# Inversion Steps:\n",
    "(For your reference)\n",
    "1. Setup\n",
    "    * Import modules\n",
    "    * Download/format data\n",
    "        * Data\n",
    "        * Times for data\n",
    "    * Load data into variables\n",
    "2. Specify source/receiver parameters\n",
    "    * Location (source/receiver)\n",
    "    * Orientation (source/receiver)\n",
    "    * Peak current amplitude (source)\n",
    "    * Radius (source)\n",
    "    * Phenomenon to measure (receiver)\n",
    "3. Create Model Cells/mesh (1D)\n",
    "    * Since this is a 1D model, it is really just depths/thicknesses of the \"layers\" or \"cells\" we will be using\n",
    "4. Define a starting model (0.1 Ohm meters (or S/m?))\n",
    "    * Make mesh be natural log values (since large differences in potential values)\n",
    "5. Generate 1D Simulation of data based on survey parameters\n",
    "6. Set up inversion parameters\n",
    "    * Weight our data (to help calculate least-squares misfit)\n",
    "    * Define regularization/model objective function\n",
    "    * Create a reference model\n",
    "    * Define sparse and blocky norms\n",
    "    * Define how optimization is solved (Gauss-Newton with conjugate gradient solver)\n",
    "    * Define the inverse problem"
   ]
  },
  {
   "cell_type": "markdown",
   "metadata": {},
   "source": [
    "## Specify variables"
   ]
  },
  {
   "cell_type": "markdown",
   "metadata": {},
   "source": [
    "Set the variables in the cell below to their correct value:\n",
    "* data_filename: We are using the file called \"GEOL451_TEMData_corrected.txt\". You will need the `data_filename` variable to point to that filepath.\n",
    "* source_radius: the ***DIAMETER*** of our loop is 40 meters, so set the appropriate radius\n",
    "* ramp_on_times: This is a two-item list. This is the start and end of the amount of time it takes to \"ramp up\" to our full initial electrical current. Use the following information:\n",
    "    * 0 is the starting point of our measurement, so that will be the first item of ramp_on_times list\n",
    "    * It takes 20 microseconds (1 microsecond = 1e-6) for the current to \"ramp on\" to its full amplitude. Use this value as the second item of the ramp_on_times list.\n",
    "* ramp_off_times: this is also a two-item list. The first item is after how many seconds we begin to turn off our electrical current (this begins to create the magnetic impulse). The second item is after how long the current is back to zero (and measurement can begin)\n",
    "    * Let's begin to turn off our electrical current after 40 microseconds. (first item of ramp_off_times list)\n",
    "    * Let's have our electrical current all the off after 60 microseconds (second item of ramp_off_times list)"
   ]
  },
  {
   "cell_type": "markdown",
   "metadata": {},
   "source": [
    "## Enter variable values at the top of this cell and examine the output.\n",
    "\n",
    "### The rest of the cells you can just run in order without changing anything. \n",
    "\n",
    "### Make sure to look at the plot output from the last cell in this notebook!"
   ]
  },
  {
   "cell_type": "code",
   "execution_count": null,
   "metadata": {},
   "outputs": [],
   "source": [
    "# ENTER IN THESE VARIABLES\n",
    "data_filename =  # This file is in EM/EMSampleData folder in the GitHub repo and has the filename GEOL451_TEMData_corrected.txt\"\n",
    "source_radius =   # loop RADIUS in meters\n",
    "ramp_on_times = [, ] # Specify start and end times of the ramping up of your electrical pulse\n",
    "ramp_off_times = [, ] # Specify start and end times of the ramping down of your electrical pulse (and beginning of your primary magnetic field)\n",
    "\n",
    "\n",
    "import matplotlib.pyplot as plt\n",
    "import numpy as np\n",
    "from simpeg.utils import mkvc, plot_1d_layer_model\n",
    "\n",
    "dobsIN = np.loadtxt(str(data_filename), skiprows=1)\n",
    "# Break down data into two variables: time and data\n",
    "times = dobsIN[:, 0]\n",
    "dobs = mkvc(dobsIN[:, -1])\n",
    "\n",
    "fig = plt.figure(figsize=(7, 7))\n",
    "ax = fig.add_axes([0.15, 0.15, 0.8, 0.75])\n",
    "ax.loglog(times, np.abs(dobs), \"k-o\", lw=3)\n",
    "ax.set_xlabel(\"Times (s)\")\n",
    "ax.set_ylabel(\"|B| (T)\")\n",
    "ax.set_title(\"Observed Data\")\n",
    "plt.show()\n",
    "dobsIN"
   ]
  },
  {
   "cell_type": "markdown",
   "metadata": {},
   "source": [
    "# Import modules"
   ]
  },
  {
   "cell_type": "code",
   "execution_count": null,
   "metadata": {},
   "outputs": [],
   "source": [
    "import os\n",
    "import tarfile\n",
    "import matplotlib.pyplot as plt\n",
    "import numpy as np\n",
    "\n",
    "from discretize import TensorMesh\n",
    "\n",
    "import simpeg.electromagnetics.time_domain as tdem\n",
    "\n",
    "from simpeg import (\n",
    "    maps,\n",
    "    data,\n",
    "    data_misfit,\n",
    "    inverse_problem,\n",
    "    regularization,\n",
    "    optimization,\n",
    "    directives,\n",
    "    inversion,\n",
    "    utils,\n",
    ")\n",
    "\n",
    "plt.rcParams.update({\"font.size\": 16, \"lines.linewidth\": 2, \"lines.markersize\": 8})\n"
   ]
  },
  {
   "cell_type": "markdown",
   "metadata": {},
   "source": [
    "# Download and format data"
   ]
  },
  {
   "cell_type": "markdown",
   "metadata": {},
   "source": [
    "# Create Digital Equipment/Source model"
   ]
  },
  {
   "cell_type": "code",
   "execution_count": null,
   "metadata": {},
   "outputs": [],
   "source": [
    "# Source loop geometry\n",
    "source_location = np.array([0.0, 0.0, 0.0])\n",
    "source_orientation = \"z\"  # \"x\", \"y\" or \"z\"\n",
    "source_current = 5  # peak current amplitude\n",
    "\n",
    "# Receiver geometry\n",
    "receiver_location = np.array([0.0, 0.0, 0.0])\n",
    "receiver_orientation = \"z\"  # \"x\", \"y\" or \"z\"\n",
    "\n",
    "# Receiver list\n",
    "receiver_list = []\n",
    "receiver_list.append(\n",
    "    tdem.receivers.PointMagneticFluxDensity(\n",
    "        receiver_location, times, orientation=receiver_orientation\n",
    "    )\n",
    ")\n",
    "\n",
    "# Define the source waveform.\n",
    "#https://docs.simpeg.xyz/latest/content/api/generated/simpeg.electromagnetics.time_domain.sources.StepOffWaveform.html#simpeg.electromagnetics.time_domain.sources.StepOffWaveform\n",
    "waveform = tdem.sources.TrapezoidWaveform(ramp_on=ramp_on_times, ramp_off=ramp_off_times)\n",
    "\n",
    "# Sources\n",
    "#https://docs.simpeg.xyz/latest/content/api/generated/simpeg.electromagnetics.time_domain.sources.CircularLoop.html#simpeg.electromagnetics.time_domain.sources.CircularLoop\n",
    "source_list = [\n",
    "    tdem.sources.CircularLoop(\n",
    "        receiver_list=receiver_list,\n",
    "        location=source_location,\n",
    "        waveform=waveform,\n",
    "        current=source_current,\n",
    "        radius=source_radius,\n",
    "    )\n",
    "]\n",
    "\n",
    "# Survey\n",
    "survey = tdem.Survey(source_list)"
   ]
  },
  {
   "cell_type": "code",
   "execution_count": null,
   "metadata": {},
   "outputs": [],
   "source": [
    "# 5% of the absolute value\n",
    "uncertainties = 0.25 * np.abs(dobs)\n",
    "\n",
    "# Define the data object\n",
    "data_object = data.Data(survey, dobs=dobs, standard_deviation=uncertainties)\n",
    "uncertainties"
   ]
  },
  {
   "cell_type": "code",
   "execution_count": null,
   "metadata": {},
   "outputs": [],
   "source": [
    "# Break down data into two variables: time and data\n",
    "times = dobsIN[:, 0]\n",
    "dobs = mkvc(dobsIN[:, -1])\n",
    "\n",
    "fig = plt.figure(figsize=(7, 7))\n",
    "ax = fig.add_axes([0.15, 0.15, 0.8, 0.75])\n",
    "ax.loglog(times, np.abs(dobs), \"k-o\", lw=3)\n",
    "ax.set_xlabel(\"Times (s)\")\n",
    "ax.set_ylabel(\"|B| (T)\")\n",
    "ax.set_title(\"Observed Data\")"
   ]
  },
  {
   "cell_type": "markdown",
   "metadata": {},
   "source": [
    "# Create Inversion Mesh"
   ]
  },
  {
   "cell_type": "code",
   "execution_count": null,
   "metadata": {},
   "outputs": [],
   "source": [
    "# Layer thicknesses\n",
    "inv_thicknesses = np.logspace(0, 1, 15)\n",
    "print((np.r_[inv_thicknesses, inv_thicknesses[-1]]))\n",
    "# Define a mesh for plotting and regularization.\n",
    "#https://discretize.simpeg.xyz/en/latest/api/generated/discretize.TensorMesh.html\n",
    "mesh = TensorMesh([(np.r_[inv_thicknesses, inv_thicknesses[-1]])], \"0\")\n",
    "print(mesh)"
   ]
  },
  {
   "cell_type": "markdown",
   "metadata": {},
   "source": [
    "# Define model"
   ]
  },
  {
   "cell_type": "code",
   "execution_count": null,
   "metadata": {},
   "outputs": [],
   "source": [
    "# Define model. A resistivity (Ohm meters) or conductivity (S/m) for each layer.\n",
    "starting_model = np.log(0.1 * np.ones(mesh.nC))\n",
    "\n",
    "# Define mapping from model to active cells.\n",
    "model_mapping = maps.ExpMap()"
   ]
  },
  {
   "cell_type": "markdown",
   "metadata": {},
   "source": [
    "# Create forward model (i.e., simulation)"
   ]
  },
  {
   "cell_type": "code",
   "execution_count": null,
   "metadata": {},
   "outputs": [],
   "source": [
    "#https://docs.simpeg.xyz/latest/content/api/generated/simpeg.electromagnetics.time_domain.Simulation1DLayered.html#simpeg.electromagnetics.time_domain.Simulation1DLayered\n",
    "simulation = tdem.Simulation1DLayered(\n",
    "    survey=survey, thicknesses=inv_thicknesses, sigmaMap=model_mapping\n",
    ")"
   ]
  },
  {
   "cell_type": "markdown",
   "metadata": {},
   "source": [
    "# Set up model parameters"
   ]
  },
  {
   "cell_type": "code",
   "execution_count": null,
   "metadata": {},
   "outputs": [],
   "source": [
    "# Define the data misfit. Here the data misfit is the L2 norm of the weighted\n",
    "# residual between the observed data and the data predicted for a given model.\n",
    "# The weighting is defined by the reciprocal of the uncertainties.\n",
    "dmis = data_misfit.L2DataMisfit(simulation=simulation, data=data_object)\n",
    "dmis.W = 1.0 / uncertainties\n",
    "\n",
    "# Define the regularization (model objective function)\n",
    "reg_map = maps.IdentityMap(nP=mesh.nC)\n",
    "reg = regularization.Sparse(mesh, mapping=reg_map, alpha_s=0.01, alpha_x=0.1)\n",
    "\n",
    "# set reference model\n",
    "reg.reference_model = starting_model\n",
    "\n",
    "# Define sparse and blocky norms p, q\n",
    "reg.norms = [1, 0]\n",
    "\n",
    "# Define how the optimization problem is solved. Here we will use an inexact\n",
    "# Gauss-Newton approach that employs the conjugate gradient solver.\n",
    "opt = optimization.ProjectedGNCG(maxIter=50, maxIterLS=20, maxIterCG=30, tolCG=1e-3)\n",
    "\n",
    "# Define the inverse problem\n",
    "inv_prob = inverse_problem.BaseInvProblem(dmis, reg, opt)"
   ]
  },
  {
   "cell_type": "code",
   "execution_count": null,
   "metadata": {},
   "outputs": [],
   "source": [
    "# Defining a starting value for the trade-off parameter (beta) between the data\n",
    "# misfit and the regularization.\n",
    "starting_beta = directives.BetaEstimate_ByEig()\n",
    "\n",
    "# Update the preconditionner\n",
    "update_Jacobi = directives.UpdatePreconditioner()\n",
    "\n",
    "# Options for outputting recovered models and predicted data for each beta.\n",
    "save_iteration = directives.SaveOutputEveryIteration(save_txt=False)\n",
    "\n",
    "# Directives for the IRLS\n",
    "update_IRLS = directives.UpdateIRLS()\n",
    "\n",
    "# Updating the preconditionner if it is model dependent.\n",
    "update_jacobi = directives.UpdatePreconditioner()\n",
    "\n",
    "# Add sensitivity weights\n",
    "sensitivity_weights = directives.UpdateSensitivityWeights()\n",
    "\n",
    "# The directives are defined as a list.\n",
    "directives_list = [\n",
    "    sensitivity_weights,\n",
    "    starting_beta,\n",
    "    save_iteration,\n",
    "    update_IRLS,\n",
    "    update_jacobi,\n",
    "]"
   ]
  },
  {
   "cell_type": "code",
   "execution_count": null,
   "metadata": {},
   "outputs": [],
   "source": [
    "# Here we combine the inverse problem and the set of directives\n",
    "inv = inversion.BaseInversion(inv_prob, directives_list)\n",
    "\n",
    "import warnings\n",
    "import simpeg\n",
    "warnings.filterwarnings('ignore', category=simpeg.utils.solver_utils.DefaultSolverWarning)\n",
    "\n",
    "# Run the inversion\n",
    "recovered_model = inv.run(starting_model)"
   ]
  },
  {
   "cell_type": "code",
   "execution_count": null,
   "metadata": {},
   "outputs": [],
   "source": [
    "# Load the true model and layer thicknesses\n",
    "true_model = np.array([0.1, 1.0, 0.1])\n",
    "true_layers = np.r_[40.0, 40.0, 160.0]\n",
    "\n",
    "true_layers = np.array([5, 30, 50, 150, 250])\n",
    "true_model = np.r_[1/10, 1/40.0, 1/10,1/100, 1/5]\n",
    "\n",
    "ert_layers = np.array([5,20,30])\n",
    "ert_model = np.array([1/10, 1/60, 1/30])\n",
    "\n",
    "# Extract Least-Squares model\n",
    "l2_model = inv_prob.l2model\n",
    "print(np.shape(l2_model))\n",
    "\n",
    "# Plot true model and recovered model\n",
    "fig = plt.figure(figsize=(8, 9))\n",
    "x_min = np.min(\n",
    "    np.r_[model_mapping * recovered_model, model_mapping * l2_model, true_model]\n",
    ")\n",
    "x_max = np.max(\n",
    "    np.r_[model_mapping * recovered_model, model_mapping * l2_model, true_model]\n",
    ")\n",
    "\n",
    "ax1 = fig.add_axes([0.2, 0.15, 0.7, 0.7])\n",
    "plot_1d_layer_model(true_layers, true_model, ax=ax1, show_layers=False, color=\"gray\")\n",
    "plot_1d_layer_model(ert_layers, ert_model, ax=ax1, show_layers=False, color=\"k\")\n",
    "\n",
    "# \"Smooth (L2) model\"\n",
    "plot_1d_layer_model(\n",
    "    mesh.h[0], model_mapping * l2_model, ax=ax1, show_layers=False, color=\"b\"\n",
    ")\n",
    "\n",
    "# \"Blocky\" (L0/L1) model\n",
    "plot_1d_layer_model(\n",
    "    mesh.h[0], model_mapping * recovered_model, ax=ax1, show_layers=False, color=\"r\"\n",
    ")\n",
    "ax1.set_xlim(0.0001, 10)\n",
    "ax1.grid()\n",
    "ax1.set_title(\"True and Recovered Models\")\n",
    "ax1.legend([\"Existing TEM Model\", \"ERT Data\", \"L2-Model\", \"Sparse Model\"])\n",
    "#plt.gca().invert_yaxis()\n",
    "\n",
    "# Plot predicted and observed data\n",
    "dpred_l2 = simulation.dpred(l2_model)\n",
    "dpred_final = simulation.dpred(recovered_model)\n",
    "\n",
    "fig = plt.figure(figsize=(7, 7))\n",
    "ax1 = fig.add_axes([0.15, 0.15, 0.8, 0.75])\n",
    "ax1.loglog(times, np.abs(dobs), \"k-o\")\n",
    "ax1.loglog(times, np.abs(dpred_l2), \"b-o\")\n",
    "ax1.loglog(times, np.abs(dpred_final), \"r-o\")\n",
    "ax1.grid()\n",
    "#ax1.set_xlabel(\"times (Hz)\")\n",
    "#ax1.set_ylabel(\"|Hs/Hp| (ppm)\")\n",
    "ax1.set_title(\"Predicted and Observed Data\")\n",
    "ax1.legend([\"Observed\", \"L2-Model\", \"Sparse\"], loc=\"upper right\")\n",
    "plt.show()"
   ]
  }
 ],
 "metadata": {
  "kernelspec": {
   "display_name": "Python 3",
   "language": "python",
   "name": "python3"
  },
  "language_info": {
   "codemirror_mode": {
    "name": "ipython",
    "version": 3
   },
   "file_extension": ".py",
   "mimetype": "text/x-python",
   "name": "python",
   "nbconvert_exporter": "python",
   "pygments_lexer": "ipython3",
   "version": "3.12.1"
  }
 },
 "nbformat": 4,
 "nbformat_minor": 2
}
